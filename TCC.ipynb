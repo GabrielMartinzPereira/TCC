{
  "cells": [
    {
      "cell_type": "markdown",
      "metadata": {
        "id": "view-in-github",
        "colab_type": "text"
      },
      "source": [
        "<a href=\"https://colab.research.google.com/github/GabrielMartinzPereira/Cervejaria_IFSP-SRT/blob/main/TCC.ipynb\" target=\"_parent\"><img src=\"https://colab.research.google.com/assets/colab-badge.svg\" alt=\"Open In Colab\"/></a>"
      ]
    },
    {
      "cell_type": "code",
      "execution_count": null,
      "metadata": {
        "id": "gi-BnF_yZjlB"
      },
      "outputs": [],
      "source": [
        "import pandas as pd\n",
        "import matplotlib.pyplot as plt\n",
        "import seaborn as sns\n",
        "import plotly.express as px\n",
        "import seaborn as sns\n",
        "import scipy\n",
        "import datetime\n",
        "import numpy as np\n",
        "import time\n",
        "import copy\n",
        "import statistics\n",
        "from sklearn.model_selection import train_test_split\n",
        "from google.colab import drive\n",
        "from google.colab import files\n",
        "drive.mount('/content/drive')"
      ]
    },
    {
      "cell_type": "markdown",
      "metadata": {
        "id": "wsD0u0g3LLkh"
      },
      "source": [
        "# Extrair csv"
      ]
    },
    {
      "cell_type": "code",
      "execution_count": null,
      "metadata": {
        "id": "cElNCI8V5zjM"
      },
      "outputs": [],
      "source": [
        "! pip install scapy\n",
        "from scapy.all import rdpcap"
      ]
    },
    {
      "cell_type": "code",
      "execution_count": null,
      "metadata": {
        "id": "e5maq1KPkCJN"
      },
      "outputs": [],
      "source": [
        "fileName = \"/content/drive/MyDrive/TCC/Vazao/Vazao-L100-T65/Vazao_R-750_V-217_L-100_T-65.pcapng\"\n",
        "packets = rdpcap(fileName)"
      ]
    },
    {
      "cell_type": "code",
      "execution_count": null,
      "metadata": {
        "id": "yrSRK6_Z1gxd"
      },
      "outputs": [],
      "source": [
        "flow=fileName.split(sep='/')\n",
        "flow[len(flow)-1]\n",
        "flow=flow[len(flow)-1].split(sep='_')\n",
        "flow[len(flow)-3]\n",
        "flow=flow[len(flow)-3].split(sep='-')\n",
        "flow[len(flow)-1]\n",
        "flow=flow[len(flow)-1]"
      ]
    },
    {
      "cell_type": "code",
      "execution_count": null,
      "metadata": {
        "id": "apoTmTDsyQJJ"
      },
      "outputs": [],
      "source": [
        "actualSpeed = []\n",
        "actualCurrent = []\n",
        "actualTorque = []\n",
        "actualPowerFactor = []\n",
        "actualOutputVoltage = []\n",
        "actualVoltage = []\n",
        "FlowRate = []\n",
        "\n",
        "for i in range(len(packets)):\n",
        "  if packets[i].dst==\"28:63:36:fa:6d:f0\":\n",
        "    #Caso o csv esteja em branco deve se comentar a linha abaixo.\n",
        "    #if (packets[i].src+packets[i].dst == packets[0].src+packets[0].dst) and (len(packets[i].original)==60):\n",
        "        b11 = str(hex(packets[i].original[len(packets[i].original)-37]))\n",
        "        b11_1 = b11.split('0x')\n",
        "        if len(b11_1[1]) == 1:\n",
        "            b11='0'+b11_1[1]\n",
        "        else:\n",
        "            b11 = b11_1[1]\n",
        "\n",
        "        b10 = str(hex(packets[i].original[len(packets[i].original)-36]))\n",
        "        b10_1 = b10.split('0x')\n",
        "        if len(b10_1[1]) == 1:\n",
        "            b10='0'+b10_1[1]\n",
        "        else:\n",
        "            b10 = b10_1[1]\n",
        "\n",
        "        b9 = str(hex(packets[i].original[len(packets[i].original)-35]))\n",
        "        b9_1 = b9.split('0x')\n",
        "        if len(b9_1[1]) == 1:\n",
        "            b9='0'+b9_1[1]\n",
        "        else:\n",
        "            b9 = b9_1[1]\n",
        "\n",
        "        b8 = str(hex(packets[i].original[len(packets[i].original)-34]))\n",
        "        b8_1 = b8.split('0x')\n",
        "        if len(b8_1[1]) == 1:\n",
        "            b8='0'+b8_1[1]\n",
        "        else:\n",
        "            b8 = b8_1[1]\n",
        "\n",
        "        b7 = str(hex(packets[i].original[len(packets[i].original)-33]))\n",
        "        b7_1 = b7.split('0x')\n",
        "        if len(b7_1[1]) == 1:\n",
        "            b7='0'+b7_1[1]\n",
        "        else:\n",
        "            b7 = b7_1[1]\n",
        "\n",
        "        b6 = str(hex(packets[i].original[len(packets[i].original)-32]))\n",
        "        b6_1 = b6.split('0x')\n",
        "        if len(b6_1[1]) == 1:\n",
        "            b6='0'+b6_1[1]\n",
        "        else:\n",
        "            b6 = b6_1[1]\n",
        "\n",
        "        b5 = str(hex(packets[i].original[len(packets[i].original)-31]))\n",
        "        b5_1 = b5.split('0x')\n",
        "        if len(b5_1[1]) == 1:\n",
        "            b5='0'+b5_1[1]\n",
        "        else:\n",
        "            b5 = b5_1[1]\n",
        "\n",
        "        b4 = str(hex(packets[i].original[len(packets[i].original)-30]))\n",
        "        b4_1 = b4.split('0x')\n",
        "        if len(b4_1[1]) == 1:\n",
        "            b4='0'+b4_1[1]\n",
        "        else:\n",
        "            b4 = b4_1[1]\n",
        "\n",
        "        b3 = str(hex(packets[i].original[len(packets[i].original)-29]))\n",
        "        b3_1 = b3.split('0x')\n",
        "        if len(b3_1[1]) == 1:\n",
        "            b3='0'+b3_1[1]\n",
        "        else:\n",
        "            b3 = b3_1[1]\n",
        "\n",
        "        b2 = str(hex(packets[i].original[len(packets[i].original)-28]))\n",
        "        b2_1 = b2.split('0x')\n",
        "        if len(b2_1[1]) == 1:\n",
        "            b2='0'+b2_1[1]\n",
        "        else:\n",
        "            b2 = b2_1[1]\n",
        "\n",
        "        b1 = str(hex(packets[i].original[len(packets[i].original)-27]))\n",
        "        b1_1 = b1.split('0x')\n",
        "        if len(b1_1[1]) == 1:\n",
        "            b1='0'+b1_1[1]\n",
        "        else:\n",
        "            b1 = b1_1[1]\n",
        "\n",
        "        b0 = str(hex(packets[i].original[len(packets[i].original)-26]))\n",
        "        b0_1 = b0.split('0x')\n",
        "        if len(b0_1[1]) == 1:\n",
        "            b0='0'+b0_1[1]\n",
        "        else:\n",
        "            b0 = b0_1[1]\n",
        "\n",
        "        actualOutputVoltage_support = '0x'+b1+b0\n",
        "        actualOutputVoltage_support = (int(actualOutputVoltage_support,16)/int(\"4000\",16))\n",
        "        actualOutputVoltage.append(actualOutputVoltage_support)\n",
        "        actualVoltage_support = '0x'+b3+b2\n",
        "        actualVoltage_support = (int(actualVoltage_support,16)/int(\"4000\",16))\n",
        "        actualVoltage.append(actualVoltage_support)\n",
        "        actualPowerFactor_support = '0x'+b5+b4\n",
        "        actualPowerFactor_support = (int(actualPowerFactor_support,16)/int(\"4000\",16))\n",
        "        actualPowerFactor.append(actualPowerFactor_support)\n",
        "        actualTorque_support = '0x'+b7+b6\n",
        "        actualTorque_support = (int(actualTorque_support,16)/int(\"4000\",16))\n",
        "        actualTorque.append(actualTorque_support)\n",
        "        actualCurrent_support = '0x'+b9+b8\n",
        "        actualCurrent_support = (int(actualCurrent_support,16)/int(\"4000\",16))\n",
        "        actualCurrent.append(actualCurrent_support)\n",
        "        actualSpeed_support = '0x'+b11+b10\n",
        "        actualSpeed_support = (int(actualSpeed_support,16)/int(\"4000\",16))\n",
        "        actualSpeed.append(actualSpeed_support)\n",
        "        FlowRate.append(flow)"
      ]
    },
    {
      "cell_type": "code",
      "execution_count": null,
      "metadata": {
        "id": "R8rkwcHyyclt"
      },
      "outputs": [],
      "source": [
        "fileName = \"/content/drive/MyDrive/Vazao/Vazao-L100-T65/Vazao_R-1000_V-320_L-100_T-65.pcapng\"\n",
        "\n",
        "packets = rdpcap(fileName)\n",
        "\n",
        "flow=fileName.split(sep='/')\n",
        "flow[len(flow)-1]\n",
        "flow=flow[len(flow)-1].split(sep='_')\n",
        "flow[len(flow)-3]\n",
        "flow=flow[len(flow)-3].split(sep='-')\n",
        "flow[len(flow)-1]\n",
        "flow=flow[len(flow)-1]\n",
        "\n",
        "for i in range(len(packets)):\n",
        "  if packets[i].dst==\"28:63:36:fa:6d:f0\":\n",
        "    if (packets[i].src+packets[i].dst == packets[0].src+packets[0].dst) and (len(packets[i].original)==60):\n",
        "        b11 = str(hex(packets[i].original[len(packets[i].original)-37]))\n",
        "        b11_1 = b11.split('0x')\n",
        "        if len(b11_1[1]) == 1:\n",
        "            b11='0'+b11_1[1]\n",
        "        else:\n",
        "            b11 = b11_1[1]\n",
        "\n",
        "        b10 = str(hex(packets[i].original[len(packets[i].original)-36]))\n",
        "        b10_1 = b10.split('0x')\n",
        "        if len(b10_1[1]) == 1:\n",
        "            b10='0'+b10_1[1]\n",
        "        else:\n",
        "            b10 = b10_1[1]\n",
        "\n",
        "        b9 = str(hex(packets[i].original[len(packets[i].original)-35]))\n",
        "        b9_1 = b9.split('0x')\n",
        "        if len(b9_1[1]) == 1:\n",
        "            b9='0'+b9_1[1]\n",
        "        else:\n",
        "            b9 = b9_1[1]\n",
        "\n",
        "        b8 = str(hex(packets[i].original[len(packets[i].original)-34]))\n",
        "        b8_1 = b8.split('0x')\n",
        "        if len(b8_1[1]) == 1:\n",
        "            b8='0'+b8_1[1]\n",
        "        else:\n",
        "            b8 = b8_1[1]\n",
        "\n",
        "        b7 = str(hex(packets[i].original[len(packets[i].original)-33]))\n",
        "        b7_1 = b7.split('0x')\n",
        "        if len(b7_1[1]) == 1:\n",
        "            b7='0'+b7_1[1]\n",
        "        else:\n",
        "            b7 = b7_1[1]\n",
        "\n",
        "        b6 = str(hex(packets[i].original[len(packets[i].original)-32]))\n",
        "        b6_1 = b6.split('0x')\n",
        "        if len(b6_1[1]) == 1:\n",
        "            b6='0'+b6_1[1]\n",
        "        else:\n",
        "            b6 = b6_1[1]\n",
        "\n",
        "        b5 = str(hex(packets[i].original[len(packets[i].original)-31]))\n",
        "        b5_1 = b5.split('0x')\n",
        "        if len(b5_1[1]) == 1:\n",
        "            b5='0'+b5_1[1]\n",
        "        else:\n",
        "            b5 = b5_1[1]\n",
        "\n",
        "        b4 = str(hex(packets[i].original[len(packets[i].original)-30]))\n",
        "        b4_1 = b4.split('0x')\n",
        "        if len(b4_1[1]) == 1:\n",
        "            b4='0'+b4_1[1]\n",
        "        else:\n",
        "            b4 = b4_1[1]\n",
        "\n",
        "        b3 = str(hex(packets[i].original[len(packets[i].original)-29]))\n",
        "        b3_1 = b3.split('0x')\n",
        "        if len(b3_1[1]) == 1:\n",
        "            b3='0'+b3_1[1]\n",
        "        else:\n",
        "            b3 = b3_1[1]\n",
        "\n",
        "        b2 = str(hex(packets[i].original[len(packets[i].original)-28]))\n",
        "        b2_1 = b2.split('0x')\n",
        "        if len(b2_1[1]) == 1:\n",
        "            b2='0'+b2_1[1]\n",
        "        else:\n",
        "            b2 = b2_1[1]\n",
        "\n",
        "        b1 = str(hex(packets[i].original[len(packets[i].original)-27]))\n",
        "        b1_1 = b1.split('0x')\n",
        "        if len(b1_1[1]) == 1:\n",
        "            b1='0'+b1_1[1]\n",
        "        else:\n",
        "            b1 = b1_1[1]\n",
        "\n",
        "        b0 = str(hex(packets[i].original[len(packets[i].original)-26]))\n",
        "        b0_1 = b0.split('0x')\n",
        "        if len(b0_1[1]) == 1:\n",
        "            b0='0'+b0_1[1]\n",
        "        else:\n",
        "            b0 = b0_1[1]\n",
        "\n",
        "        actualOutputVoltage_support = '0x'+b1+b0\n",
        "        actualOutputVoltage_support = (int(actualOutputVoltage_support,16)/int(\"4000\",16))\n",
        "        actualOutputVoltage.append(actualOutputVoltage_support)\n",
        "        actualVoltage_support = '0x'+b3+b2\n",
        "        actualVoltage_support = (int(actualVoltage_support,16)/int(\"4000\",16))\n",
        "        actualVoltage.append(actualVoltage_support)\n",
        "        actualPowerFactor_support = '0x'+b5+b4\n",
        "        actualPowerFactor_support = (int(actualPowerFactor_support,16)/int(\"4000\",16))\n",
        "        actualPowerFactor.append(actualPowerFactor_support)\n",
        "        actualTorque_support = '0x'+b7+b6\n",
        "        actualTorque_support = (int(actualTorque_support,16)/int(\"4000\",16))\n",
        "        actualTorque.append(actualTorque_support)\n",
        "        actualCurrent_support = '0x'+b9+b8\n",
        "        actualCurrent_support = (int(actualCurrent_support,16)/int(\"4000\",16))\n",
        "        actualCurrent.append(actualCurrent_support)\n",
        "        actualSpeed_support = '0x'+b11+b10\n",
        "        actualSpeed_support = (int(actualSpeed_support,16)/int(\"4000\",16))\n",
        "        actualSpeed.append(actualSpeed_support)\n",
        "        FlowRate.append(flow)"
      ]
    },
    {
      "cell_type": "code",
      "execution_count": null,
      "metadata": {
        "id": "eErbaDndzC0k"
      },
      "outputs": [],
      "source": [
        "fileName = \"/content/drive/MyDrive/Vazao/Vazao-L100-T65/Vazao_R-1250_V-428_L-100_T-65.pcapng\"\n",
        "\n",
        "packets = rdpcap(fileName)\n",
        "\n",
        "flow=fileName.split(sep='/')\n",
        "flow[len(flow)-1]\n",
        "flow=flow[len(flow)-1].split(sep='_')\n",
        "flow[len(flow)-3]\n",
        "flow=flow[len(flow)-3].split(sep='-')\n",
        "flow[len(flow)-1]\n",
        "flow=flow[len(flow)-1]\n",
        "\n",
        "for i in range(len(packets)):\n",
        "  if packets[i].dst==\"28:63:36:fa:6d:f0\":\n",
        "    if (packets[i].src+packets[i].dst == packets[0].src+packets[0].dst) and (len(packets[i].original)==60):\n",
        "        b11 = str(hex(packets[i].original[len(packets[i].original)-37]))\n",
        "        b11_1 = b11.split('0x')\n",
        "        if len(b11_1[1]) == 1:\n",
        "            b11='0'+b11_1[1]\n",
        "        else:\n",
        "            b11 = b11_1[1]\n",
        "\n",
        "        b10 = str(hex(packets[i].original[len(packets[i].original)-36]))\n",
        "        b10_1 = b10.split('0x')\n",
        "        if len(b10_1[1]) == 1:\n",
        "            b10='0'+b10_1[1]\n",
        "        else:\n",
        "            b10 = b10_1[1]\n",
        "\n",
        "        b9 = str(hex(packets[i].original[len(packets[i].original)-35]))\n",
        "        b9_1 = b9.split('0x')\n",
        "        if len(b9_1[1]) == 1:\n",
        "            b9='0'+b9_1[1]\n",
        "        else:\n",
        "            b9 = b9_1[1]\n",
        "\n",
        "        b8 = str(hex(packets[i].original[len(packets[i].original)-34]))\n",
        "        b8_1 = b8.split('0x')\n",
        "        if len(b8_1[1]) == 1:\n",
        "            b8='0'+b8_1[1]\n",
        "        else:\n",
        "            b8 = b8_1[1]\n",
        "\n",
        "        b7 = str(hex(packets[i].original[len(packets[i].original)-33]))\n",
        "        b7_1 = b7.split('0x')\n",
        "        if len(b7_1[1]) == 1:\n",
        "            b7='0'+b7_1[1]\n",
        "        else:\n",
        "            b7 = b7_1[1]\n",
        "\n",
        "        b6 = str(hex(packets[i].original[len(packets[i].original)-32]))\n",
        "        b6_1 = b6.split('0x')\n",
        "        if len(b6_1[1]) == 1:\n",
        "            b6='0'+b6_1[1]\n",
        "        else:\n",
        "            b6 = b6_1[1]\n",
        "\n",
        "        b5 = str(hex(packets[i].original[len(packets[i].original)-31]))\n",
        "        b5_1 = b5.split('0x')\n",
        "        if len(b5_1[1]) == 1:\n",
        "            b5='0'+b5_1[1]\n",
        "        else:\n",
        "            b5 = b5_1[1]\n",
        "\n",
        "        b4 = str(hex(packets[i].original[len(packets[i].original)-30]))\n",
        "        b4_1 = b4.split('0x')\n",
        "        if len(b4_1[1]) == 1:\n",
        "            b4='0'+b4_1[1]\n",
        "        else:\n",
        "            b4 = b4_1[1]\n",
        "\n",
        "        b3 = str(hex(packets[i].original[len(packets[i].original)-29]))\n",
        "        b3_1 = b3.split('0x')\n",
        "        if len(b3_1[1]) == 1:\n",
        "            b3='0'+b3_1[1]\n",
        "        else:\n",
        "            b3 = b3_1[1]\n",
        "\n",
        "        b2 = str(hex(packets[i].original[len(packets[i].original)-28]))\n",
        "        b2_1 = b2.split('0x')\n",
        "        if len(b2_1[1]) == 1:\n",
        "            b2='0'+b2_1[1]\n",
        "        else:\n",
        "            b2 = b2_1[1]\n",
        "\n",
        "        b1 = str(hex(packets[i].original[len(packets[i].original)-27]))\n",
        "        b1_1 = b1.split('0x')\n",
        "        if len(b1_1[1]) == 1:\n",
        "            b1='0'+b1_1[1]\n",
        "        else:\n",
        "            b1 = b1_1[1]\n",
        "\n",
        "        b0 = str(hex(packets[i].original[len(packets[i].original)-26]))\n",
        "        b0_1 = b0.split('0x')\n",
        "        if len(b0_1[1]) == 1:\n",
        "            b0='0'+b0_1[1]\n",
        "        else:\n",
        "            b0 = b0_1[1]\n",
        "\n",
        "        actualOutputVoltage_support = '0x'+b1+b0\n",
        "        actualOutputVoltage_support = (int(actualOutputVoltage_support,16)/int(\"4000\",16))\n",
        "        actualOutputVoltage.append(actualOutputVoltage_support)\n",
        "        actualVoltage_support = '0x'+b3+b2\n",
        "        actualVoltage_support = (int(actualVoltage_support,16)/int(\"4000\",16))\n",
        "        actualVoltage.append(actualVoltage_support)\n",
        "        actualPowerFactor_support = '0x'+b5+b4\n",
        "        actualPowerFactor_support = (int(actualPowerFactor_support,16)/int(\"4000\",16))\n",
        "        actualPowerFactor.append(actualPowerFactor_support)\n",
        "        actualTorque_support = '0x'+b7+b6\n",
        "        actualTorque_support = (int(actualTorque_support,16)/int(\"4000\",16))\n",
        "        actualTorque.append(actualTorque_support)\n",
        "        actualCurrent_support = '0x'+b9+b8\n",
        "        actualCurrent_support = (int(actualCurrent_support,16)/int(\"4000\",16))\n",
        "        actualCurrent.append(actualCurrent_support)\n",
        "        actualSpeed_support = '0x'+b11+b10\n",
        "        actualSpeed_support = (int(actualSpeed_support,16)/int(\"4000\",16))\n",
        "        actualSpeed.append(actualSpeed_support)\n",
        "        FlowRate.append(flow)"
      ]
    },
    {
      "cell_type": "code",
      "execution_count": null,
      "metadata": {
        "id": "3PQ41XoezDUT"
      },
      "outputs": [],
      "source": [
        "fileName = \"/content/drive/MyDrive/Vazao/Vazao-L100-T65/Vazao_R-1500_V-537_L-100_T-65.pcapng\"\n",
        "\n",
        "packets = rdpcap(fileName)\n",
        "\n",
        "flow=fileName.split(sep='/')\n",
        "flow[len(flow)-1]\n",
        "flow=flow[len(flow)-1].split(sep='_')\n",
        "flow[len(flow)-3]\n",
        "flow=flow[len(flow)-3].split(sep='-')\n",
        "flow[len(flow)-1]\n",
        "flow=flow[len(flow)-1]\n",
        "\n",
        "for i in range(len(packets)):\n",
        "  if packets[i].dst==\"28:63:36:fa:6d:f0\":\n",
        "    if (packets[i].src+packets[i].dst == packets[0].src+packets[0].dst) and (len(packets[i].original)==60):\n",
        "        b11 = str(hex(packets[i].original[len(packets[i].original)-37]))\n",
        "        b11_1 = b11.split('0x')\n",
        "        if len(b11_1[1]) == 1:\n",
        "            b11='0'+b11_1[1]\n",
        "        else:\n",
        "            b11 = b11_1[1]\n",
        "\n",
        "        b10 = str(hex(packets[i].original[len(packets[i].original)-36]))\n",
        "        b10_1 = b10.split('0x')\n",
        "        if len(b10_1[1]) == 1:\n",
        "            b10='0'+b10_1[1]\n",
        "        else:\n",
        "            b10 = b10_1[1]\n",
        "\n",
        "        b9 = str(hex(packets[i].original[len(packets[i].original)-35]))\n",
        "        b9_1 = b9.split('0x')\n",
        "        if len(b9_1[1]) == 1:\n",
        "            b9='0'+b9_1[1]\n",
        "        else:\n",
        "            b9 = b9_1[1]\n",
        "\n",
        "        b8 = str(hex(packets[i].original[len(packets[i].original)-34]))\n",
        "        b8_1 = b8.split('0x')\n",
        "        if len(b8_1[1]) == 1:\n",
        "            b8='0'+b8_1[1]\n",
        "        else:\n",
        "            b8 = b8_1[1]\n",
        "\n",
        "        b7 = str(hex(packets[i].original[len(packets[i].original)-33]))\n",
        "        b7_1 = b7.split('0x')\n",
        "        if len(b7_1[1]) == 1:\n",
        "            b7='0'+b7_1[1]\n",
        "        else:\n",
        "            b7 = b7_1[1]\n",
        "\n",
        "        b6 = str(hex(packets[i].original[len(packets[i].original)-32]))\n",
        "        b6_1 = b6.split('0x')\n",
        "        if len(b6_1[1]) == 1:\n",
        "            b6='0'+b6_1[1]\n",
        "        else:\n",
        "            b6 = b6_1[1]\n",
        "\n",
        "        b5 = str(hex(packets[i].original[len(packets[i].original)-31]))\n",
        "        b5_1 = b5.split('0x')\n",
        "        if len(b5_1[1]) == 1:\n",
        "            b5='0'+b5_1[1]\n",
        "        else:\n",
        "            b5 = b5_1[1]\n",
        "\n",
        "        b4 = str(hex(packets[i].original[len(packets[i].original)-30]))\n",
        "        b4_1 = b4.split('0x')\n",
        "        if len(b4_1[1]) == 1:\n",
        "            b4='0'+b4_1[1]\n",
        "        else:\n",
        "            b4 = b4_1[1]\n",
        "\n",
        "        b3 = str(hex(packets[i].original[len(packets[i].original)-29]))\n",
        "        b3_1 = b3.split('0x')\n",
        "        if len(b3_1[1]) == 1:\n",
        "            b3='0'+b3_1[1]\n",
        "        else:\n",
        "            b3 = b3_1[1]\n",
        "\n",
        "        b2 = str(hex(packets[i].original[len(packets[i].original)-28]))\n",
        "        b2_1 = b2.split('0x')\n",
        "        if len(b2_1[1]) == 1:\n",
        "            b2='0'+b2_1[1]\n",
        "        else:\n",
        "            b2 = b2_1[1]\n",
        "\n",
        "        b1 = str(hex(packets[i].original[len(packets[i].original)-27]))\n",
        "        b1_1 = b1.split('0x')\n",
        "        if len(b1_1[1]) == 1:\n",
        "            b1='0'+b1_1[1]\n",
        "        else:\n",
        "            b1 = b1_1[1]\n",
        "\n",
        "        b0 = str(hex(packets[i].original[len(packets[i].original)-26]))\n",
        "        b0_1 = b0.split('0x')\n",
        "        if len(b0_1[1]) == 1:\n",
        "            b0='0'+b0_1[1]\n",
        "        else:\n",
        "            b0 = b0_1[1]\n",
        "\n",
        "        actualOutputVoltage_support = '0x'+b1+b0\n",
        "        actualOutputVoltage_support = (int(actualOutputVoltage_support,16)/int(\"4000\",16))\n",
        "        actualOutputVoltage.append(actualOutputVoltage_support)\n",
        "        actualVoltage_support = '0x'+b3+b2\n",
        "        actualVoltage_support = (int(actualVoltage_support,16)/int(\"4000\",16))\n",
        "        actualVoltage.append(actualVoltage_support)\n",
        "        actualPowerFactor_support = '0x'+b5+b4\n",
        "        actualPowerFactor_support = (int(actualPowerFactor_support,16)/int(\"4000\",16))\n",
        "        actualPowerFactor.append(actualPowerFactor_support)\n",
        "        actualTorque_support = '0x'+b7+b6\n",
        "        actualTorque_support = (int(actualTorque_support,16)/int(\"4000\",16))\n",
        "        actualTorque.append(actualTorque_support)\n",
        "        actualCurrent_support = '0x'+b9+b8\n",
        "        actualCurrent_support = (int(actualCurrent_support,16)/int(\"4000\",16))\n",
        "        actualCurrent.append(actualCurrent_support)\n",
        "        actualSpeed_support = '0x'+b11+b10\n",
        "        actualSpeed_support = (int(actualSpeed_support,16)/int(\"4000\",16))\n",
        "        actualSpeed.append(actualSpeed_support)\n",
        "        FlowRate.append(flow)"
      ]
    },
    {
      "cell_type": "code",
      "execution_count": null,
      "metadata": {
        "id": "KWCNZ5odzDyD"
      },
      "outputs": [],
      "source": [
        "fileName = \"/content/drive/MyDrive/Vazao/Vazao-L100-T65/Vazao_R-1750_V-646_L-100_T-65.pcapng\"\n",
        "\n",
        "packets = rdpcap(fileName)\n",
        "\n",
        "flow=fileName.split(sep='/')\n",
        "flow[len(flow)-1]\n",
        "flow=flow[len(flow)-1].split(sep='_')\n",
        "flow[len(flow)-3]\n",
        "flow=flow[len(flow)-3].split(sep='-')\n",
        "flow[len(flow)-1]\n",
        "flow=flow[len(flow)-1]\n",
        "\n",
        "for i in range(len(packets)):\n",
        "  if packets[i].dst==\"28:63:36:fa:6d:f0\":\n",
        "    if (packets[i].src+packets[i].dst == packets[0].src+packets[0].dst) and (len(packets[i].original)==60):\n",
        "        b11 = str(hex(packets[i].original[len(packets[i].original)-37]))\n",
        "        b11_1 = b11.split('0x')\n",
        "        if len(b11_1[1]) == 1:\n",
        "            b11='0'+b11_1[1]\n",
        "        else:\n",
        "            b11 = b11_1[1]\n",
        "\n",
        "        b10 = str(hex(packets[i].original[len(packets[i].original)-36]))\n",
        "        b10_1 = b10.split('0x')\n",
        "        if len(b10_1[1]) == 1:\n",
        "            b10='0'+b10_1[1]\n",
        "        else:\n",
        "            b10 = b10_1[1]\n",
        "\n",
        "        b9 = str(hex(packets[i].original[len(packets[i].original)-35]))\n",
        "        b9_1 = b9.split('0x')\n",
        "        if len(b9_1[1]) == 1:\n",
        "            b9='0'+b9_1[1]\n",
        "        else:\n",
        "            b9 = b9_1[1]\n",
        "\n",
        "        b8 = str(hex(packets[i].original[len(packets[i].original)-34]))\n",
        "        b8_1 = b8.split('0x')\n",
        "        if len(b8_1[1]) == 1:\n",
        "            b8='0'+b8_1[1]\n",
        "        else:\n",
        "            b8 = b8_1[1]\n",
        "\n",
        "        b7 = str(hex(packets[i].original[len(packets[i].original)-33]))\n",
        "        b7_1 = b7.split('0x')\n",
        "        if len(b7_1[1]) == 1:\n",
        "            b7='0'+b7_1[1]\n",
        "        else:\n",
        "            b7 = b7_1[1]\n",
        "\n",
        "        b6 = str(hex(packets[i].original[len(packets[i].original)-32]))\n",
        "        b6_1 = b6.split('0x')\n",
        "        if len(b6_1[1]) == 1:\n",
        "            b6='0'+b6_1[1]\n",
        "        else:\n",
        "            b6 = b6_1[1]\n",
        "\n",
        "        b5 = str(hex(packets[i].original[len(packets[i].original)-31]))\n",
        "        b5_1 = b5.split('0x')\n",
        "        if len(b5_1[1]) == 1:\n",
        "            b5='0'+b5_1[1]\n",
        "        else:\n",
        "            b5 = b5_1[1]\n",
        "\n",
        "        b4 = str(hex(packets[i].original[len(packets[i].original)-30]))\n",
        "        b4_1 = b4.split('0x')\n",
        "        if len(b4_1[1]) == 1:\n",
        "            b4='0'+b4_1[1]\n",
        "        else:\n",
        "            b4 = b4_1[1]\n",
        "\n",
        "        b3 = str(hex(packets[i].original[len(packets[i].original)-29]))\n",
        "        b3_1 = b3.split('0x')\n",
        "        if len(b3_1[1]) == 1:\n",
        "            b3='0'+b3_1[1]\n",
        "        else:\n",
        "            b3 = b3_1[1]\n",
        "\n",
        "        b2 = str(hex(packets[i].original[len(packets[i].original)-28]))\n",
        "        b2_1 = b2.split('0x')\n",
        "        if len(b2_1[1]) == 1:\n",
        "            b2='0'+b2_1[1]\n",
        "        else:\n",
        "            b2 = b2_1[1]\n",
        "\n",
        "        b1 = str(hex(packets[i].original[len(packets[i].original)-27]))\n",
        "        b1_1 = b1.split('0x')\n",
        "        if len(b1_1[1]) == 1:\n",
        "            b1='0'+b1_1[1]\n",
        "        else:\n",
        "            b1 = b1_1[1]\n",
        "\n",
        "        b0 = str(hex(packets[i].original[len(packets[i].original)-26]))\n",
        "        b0_1 = b0.split('0x')\n",
        "        if len(b0_1[1]) == 1:\n",
        "            b0='0'+b0_1[1]\n",
        "        else:\n",
        "            b0 = b0_1[1]\n",
        "\n",
        "        actualOutputVoltage_support = '0x'+b1+b0\n",
        "        actualOutputVoltage_support = (int(actualOutputVoltage_support,16)/int(\"4000\",16))\n",
        "        actualOutputVoltage.append(actualOutputVoltage_support)\n",
        "        actualVoltage_support = '0x'+b3+b2\n",
        "        actualVoltage_support = (int(actualVoltage_support,16)/int(\"4000\",16))\n",
        "        actualVoltage.append(actualVoltage_support)\n",
        "        actualPowerFactor_support = '0x'+b5+b4\n",
        "        actualPowerFactor_support = (int(actualPowerFactor_support,16)/int(\"4000\",16))\n",
        "        actualPowerFactor.append(actualPowerFactor_support)\n",
        "        actualTorque_support = '0x'+b7+b6\n",
        "        actualTorque_support = (int(actualTorque_support,16)/int(\"4000\",16))\n",
        "        actualTorque.append(actualTorque_support)\n",
        "        actualCurrent_support = '0x'+b9+b8\n",
        "        actualCurrent_support = (int(actualCurrent_support,16)/int(\"4000\",16))\n",
        "        actualCurrent.append(actualCurrent_support)\n",
        "        actualSpeed_support = '0x'+b11+b10\n",
        "        actualSpeed_support = (int(actualSpeed_support,16)/int(\"4000\",16))\n",
        "        actualSpeed.append(actualSpeed_support)\n",
        "        FlowRate.append(flow)"
      ]
    },
    {
      "cell_type": "code",
      "execution_count": null,
      "metadata": {
        "id": "MfgmONdvzEOr"
      },
      "outputs": [],
      "source": [
        "fileName = \"/content/drive/MyDrive/Vazao/Vazao-L100-T65/Vazao_R-2000_V-767_L-100_T-65.pcapng\"\n",
        "\n",
        "packets = rdpcap(fileName)\n",
        "\n",
        "flow=fileName.split(sep='/')\n",
        "flow[len(flow)-1]\n",
        "flow=flow[len(flow)-1].split(sep='_')\n",
        "flow[len(flow)-3]\n",
        "flow=flow[len(flow)-3].split(sep='-')\n",
        "flow[len(flow)-1]\n",
        "flow=flow[len(flow)-1]\n",
        "\n",
        "for i in range(len(packets)):\n",
        "  if packets[i].dst==\"28:63:36:fa:6d:f0\":\n",
        "    if (packets[i].src+packets[i].dst == packets[0].src+packets[0].dst) and (len(packets[i].original)==60):\n",
        "        b11 = str(hex(packets[i].original[len(packets[i].original)-37]))\n",
        "        b11_1 = b11.split('0x')\n",
        "        if len(b11_1[1]) == 1:\n",
        "            b11='0'+b11_1[1]\n",
        "        else:\n",
        "            b11 = b11_1[1]\n",
        "\n",
        "        b10 = str(hex(packets[i].original[len(packets[i].original)-36]))\n",
        "        b10_1 = b10.split('0x')\n",
        "        if len(b10_1[1]) == 1:\n",
        "            b10='0'+b10_1[1]\n",
        "        else:\n",
        "            b10 = b10_1[1]\n",
        "\n",
        "        b9 = str(hex(packets[i].original[len(packets[i].original)-35]))\n",
        "        b9_1 = b9.split('0x')\n",
        "        if len(b9_1[1]) == 1:\n",
        "            b9='0'+b9_1[1]\n",
        "        else:\n",
        "            b9 = b9_1[1]\n",
        "\n",
        "        b8 = str(hex(packets[i].original[len(packets[i].original)-34]))\n",
        "        b8_1 = b8.split('0x')\n",
        "        if len(b8_1[1]) == 1:\n",
        "            b8='0'+b8_1[1]\n",
        "        else:\n",
        "            b8 = b8_1[1]\n",
        "\n",
        "        b7 = str(hex(packets[i].original[len(packets[i].original)-33]))\n",
        "        b7_1 = b7.split('0x')\n",
        "        if len(b7_1[1]) == 1:\n",
        "            b7='0'+b7_1[1]\n",
        "        else:\n",
        "            b7 = b7_1[1]\n",
        "\n",
        "        b6 = str(hex(packets[i].original[len(packets[i].original)-32]))\n",
        "        b6_1 = b6.split('0x')\n",
        "        if len(b6_1[1]) == 1:\n",
        "            b6='0'+b6_1[1]\n",
        "        else:\n",
        "            b6 = b6_1[1]\n",
        "\n",
        "        b5 = str(hex(packets[i].original[len(packets[i].original)-31]))\n",
        "        b5_1 = b5.split('0x')\n",
        "        if len(b5_1[1]) == 1:\n",
        "            b5='0'+b5_1[1]\n",
        "        else:\n",
        "            b5 = b5_1[1]\n",
        "\n",
        "        b4 = str(hex(packets[i].original[len(packets[i].original)-30]))\n",
        "        b4_1 = b4.split('0x')\n",
        "        if len(b4_1[1]) == 1:\n",
        "            b4='0'+b4_1[1]\n",
        "        else:\n",
        "            b4 = b4_1[1]\n",
        "\n",
        "        b3 = str(hex(packets[i].original[len(packets[i].original)-29]))\n",
        "        b3_1 = b3.split('0x')\n",
        "        if len(b3_1[1]) == 1:\n",
        "            b3='0'+b3_1[1]\n",
        "        else:\n",
        "            b3 = b3_1[1]\n",
        "\n",
        "        b2 = str(hex(packets[i].original[len(packets[i].original)-28]))\n",
        "        b2_1 = b2.split('0x')\n",
        "        if len(b2_1[1]) == 1:\n",
        "            b2='0'+b2_1[1]\n",
        "        else:\n",
        "            b2 = b2_1[1]\n",
        "\n",
        "        b1 = str(hex(packets[i].original[len(packets[i].original)-27]))\n",
        "        b1_1 = b1.split('0x')\n",
        "        if len(b1_1[1]) == 1:\n",
        "            b1='0'+b1_1[1]\n",
        "        else:\n",
        "            b1 = b1_1[1]\n",
        "\n",
        "        b0 = str(hex(packets[i].original[len(packets[i].original)-26]))\n",
        "        b0_1 = b0.split('0x')\n",
        "        if len(b0_1[1]) == 1:\n",
        "            b0='0'+b0_1[1]\n",
        "        else:\n",
        "            b0 = b0_1[1]\n",
        "\n",
        "        actualOutputVoltage_support = '0x'+b1+b0\n",
        "        actualOutputVoltage_support = (int(actualOutputVoltage_support,16)/int(\"4000\",16))\n",
        "        actualOutputVoltage.append(actualOutputVoltage_support)\n",
        "        actualVoltage_support = '0x'+b3+b2\n",
        "        actualVoltage_support = (int(actualVoltage_support,16)/int(\"4000\",16))\n",
        "        actualVoltage.append(actualVoltage_support)\n",
        "        actualPowerFactor_support = '0x'+b5+b4\n",
        "        actualPowerFactor_support = (int(actualPowerFactor_support,16)/int(\"4000\",16))\n",
        "        actualPowerFactor.append(actualPowerFactor_support)\n",
        "        actualTorque_support = '0x'+b7+b6\n",
        "        actualTorque_support = (int(actualTorque_support,16)/int(\"4000\",16))\n",
        "        actualTorque.append(actualTorque_support)\n",
        "        actualCurrent_support = '0x'+b9+b8\n",
        "        actualCurrent_support = (int(actualCurrent_support,16)/int(\"4000\",16))\n",
        "        actualCurrent.append(actualCurrent_support)\n",
        "        actualSpeed_support = '0x'+b11+b10\n",
        "        actualSpeed_support = (int(actualSpeed_support,16)/int(\"4000\",16))\n",
        "        actualSpeed.append(actualSpeed_support)\n",
        "        FlowRate.append(flow)"
      ]
    },
    {
      "cell_type": "code",
      "execution_count": null,
      "metadata": {
        "id": "vnKN8iMUzEm7"
      },
      "outputs": [],
      "source": [
        "fileName = \"/content/drive/MyDrive/Vazao/Vazao-L100-T65/Vazao_R-2250_V-864_L-100_T-65.pcapng\"\n",
        "\n",
        "packets = rdpcap(fileName)\n",
        "\n",
        "flow=fileName.split(sep='/')\n",
        "flow[len(flow)-1]\n",
        "flow=flow[len(flow)-1].split(sep='_')\n",
        "flow[len(flow)-3]\n",
        "flow=flow[len(flow)-3].split(sep='-')\n",
        "flow[len(flow)-1]\n",
        "flow=flow[len(flow)-1]\n",
        "\n",
        "for i in range(len(packets)):\n",
        "  if packets[i].dst==\"28:63:36:fa:6d:f0\":\n",
        "    if (packets[i].src+packets[i].dst == packets[0].src+packets[0].dst) and (len(packets[i].original)==60):\n",
        "        b11 = str(hex(packets[i].original[len(packets[i].original)-37]))\n",
        "        b11_1 = b11.split('0x')\n",
        "        if len(b11_1[1]) == 1:\n",
        "            b11='0'+b11_1[1]\n",
        "        else:\n",
        "            b11 = b11_1[1]\n",
        "\n",
        "        b10 = str(hex(packets[i].original[len(packets[i].original)-36]))\n",
        "        b10_1 = b10.split('0x')\n",
        "        if len(b10_1[1]) == 1:\n",
        "            b10='0'+b10_1[1]\n",
        "        else:\n",
        "            b10 = b10_1[1]\n",
        "\n",
        "        b9 = str(hex(packets[i].original[len(packets[i].original)-35]))\n",
        "        b9_1 = b9.split('0x')\n",
        "        if len(b9_1[1]) == 1:\n",
        "            b9='0'+b9_1[1]\n",
        "        else:\n",
        "            b9 = b9_1[1]\n",
        "\n",
        "        b8 = str(hex(packets[i].original[len(packets[i].original)-34]))\n",
        "        b8_1 = b8.split('0x')\n",
        "        if len(b8_1[1]) == 1:\n",
        "            b8='0'+b8_1[1]\n",
        "        else:\n",
        "            b8 = b8_1[1]\n",
        "\n",
        "        b7 = str(hex(packets[i].original[len(packets[i].original)-33]))\n",
        "        b7_1 = b7.split('0x')\n",
        "        if len(b7_1[1]) == 1:\n",
        "            b7='0'+b7_1[1]\n",
        "        else:\n",
        "            b7 = b7_1[1]\n",
        "\n",
        "        b6 = str(hex(packets[i].original[len(packets[i].original)-32]))\n",
        "        b6_1 = b6.split('0x')\n",
        "        if len(b6_1[1]) == 1:\n",
        "            b6='0'+b6_1[1]\n",
        "        else:\n",
        "            b6 = b6_1[1]\n",
        "\n",
        "        b5 = str(hex(packets[i].original[len(packets[i].original)-31]))\n",
        "        b5_1 = b5.split('0x')\n",
        "        if len(b5_1[1]) == 1:\n",
        "            b5='0'+b5_1[1]\n",
        "        else:\n",
        "            b5 = b5_1[1]\n",
        "\n",
        "        b4 = str(hex(packets[i].original[len(packets[i].original)-30]))\n",
        "        b4_1 = b4.split('0x')\n",
        "        if len(b4_1[1]) == 1:\n",
        "            b4='0'+b4_1[1]\n",
        "        else:\n",
        "            b4 = b4_1[1]\n",
        "\n",
        "        b3 = str(hex(packets[i].original[len(packets[i].original)-29]))\n",
        "        b3_1 = b3.split('0x')\n",
        "        if len(b3_1[1]) == 1:\n",
        "            b3='0'+b3_1[1]\n",
        "        else:\n",
        "            b3 = b3_1[1]\n",
        "\n",
        "        b2 = str(hex(packets[i].original[len(packets[i].original)-28]))\n",
        "        b2_1 = b2.split('0x')\n",
        "        if len(b2_1[1]) == 1:\n",
        "            b2='0'+b2_1[1]\n",
        "        else:\n",
        "            b2 = b2_1[1]\n",
        "\n",
        "        b1 = str(hex(packets[i].original[len(packets[i].original)-27]))\n",
        "        b1_1 = b1.split('0x')\n",
        "        if len(b1_1[1]) == 1:\n",
        "            b1='0'+b1_1[1]\n",
        "        else:\n",
        "            b1 = b1_1[1]\n",
        "\n",
        "        b0 = str(hex(packets[i].original[len(packets[i].original)-26]))\n",
        "        b0_1 = b0.split('0x')\n",
        "        if len(b0_1[1]) == 1:\n",
        "            b0='0'+b0_1[1]\n",
        "        else:\n",
        "            b0 = b0_1[1]\n",
        "\n",
        "        actualOutputVoltage_support = '0x'+b1+b0\n",
        "        actualOutputVoltage_support = (int(actualOutputVoltage_support,16)/int(\"4000\",16))\n",
        "        actualOutputVoltage.append(actualOutputVoltage_support)\n",
        "        actualVoltage_support = '0x'+b3+b2\n",
        "        actualVoltage_support = (int(actualVoltage_support,16)/int(\"4000\",16))\n",
        "        actualVoltage.append(actualVoltage_support)\n",
        "        actualPowerFactor_support = '0x'+b5+b4\n",
        "        actualPowerFactor_support = (int(actualPowerFactor_support,16)/int(\"4000\",16))\n",
        "        actualPowerFactor.append(actualPowerFactor_support)\n",
        "        actualTorque_support = '0x'+b7+b6\n",
        "        actualTorque_support = (int(actualTorque_support,16)/int(\"4000\",16))\n",
        "        actualTorque.append(actualTorque_support)\n",
        "        actualCurrent_support = '0x'+b9+b8\n",
        "        actualCurrent_support = (int(actualCurrent_support,16)/int(\"4000\",16))\n",
        "        actualCurrent.append(actualCurrent_support)\n",
        "        actualSpeed_support = '0x'+b11+b10\n",
        "        actualSpeed_support = (int(actualSpeed_support,16)/int(\"4000\",16))\n",
        "        actualSpeed.append(actualSpeed_support)\n",
        "        FlowRate.append(flow)"
      ]
    },
    {
      "cell_type": "code",
      "execution_count": null,
      "metadata": {
        "id": "p6IcAeCuzJ_K"
      },
      "outputs": [],
      "source": [
        "fileName = \"/content/drive/MyDrive/Vazao/Vazao-L100-T65/Vazao_R-2500_V-959_L-100_T-65.pcapng\"\n",
        "\n",
        "packets = rdpcap(fileName)\n",
        "\n",
        "flow=fileName.split(sep='/')\n",
        "flow[len(flow)-1]\n",
        "flow=flow[len(flow)-1].split(sep='_')\n",
        "flow[len(flow)-3]\n",
        "flow=flow[len(flow)-3].split(sep='-')\n",
        "flow[len(flow)-1]\n",
        "flow=flow[len(flow)-1]\n",
        "\n",
        "for i in range(len(packets)):\n",
        "  if packets[i].dst==\"28:63:36:fa:6d:f0\":\n",
        "    if (packets[i].src+packets[i].dst == packets[0].src+packets[0].dst) and (len(packets[i].original)==60):\n",
        "        b11 = str(hex(packets[i].original[len(packets[i].original)-37]))\n",
        "        b11_1 = b11.split('0x')\n",
        "        if len(b11_1[1]) == 1:\n",
        "            b11='0'+b11_1[1]\n",
        "        else:\n",
        "            b11 = b11_1[1]\n",
        "\n",
        "        b10 = str(hex(packets[i].original[len(packets[i].original)-36]))\n",
        "        b10_1 = b10.split('0x')\n",
        "        if len(b10_1[1]) == 1:\n",
        "            b10='0'+b10_1[1]\n",
        "        else:\n",
        "            b10 = b10_1[1]\n",
        "\n",
        "        b9 = str(hex(packets[i].original[len(packets[i].original)-35]))\n",
        "        b9_1 = b9.split('0x')\n",
        "        if len(b9_1[1]) == 1:\n",
        "            b9='0'+b9_1[1]\n",
        "        else:\n",
        "            b9 = b9_1[1]\n",
        "\n",
        "        b8 = str(hex(packets[i].original[len(packets[i].original)-34]))\n",
        "        b8_1 = b8.split('0x')\n",
        "        if len(b8_1[1]) == 1:\n",
        "            b8='0'+b8_1[1]\n",
        "        else:\n",
        "            b8 = b8_1[1]\n",
        "\n",
        "        b7 = str(hex(packets[i].original[len(packets[i].original)-33]))\n",
        "        b7_1 = b7.split('0x')\n",
        "        if len(b7_1[1]) == 1:\n",
        "            b7='0'+b7_1[1]\n",
        "        else:\n",
        "            b7 = b7_1[1]\n",
        "\n",
        "        b6 = str(hex(packets[i].original[len(packets[i].original)-32]))\n",
        "        b6_1 = b6.split('0x')\n",
        "        if len(b6_1[1]) == 1:\n",
        "            b6='0'+b6_1[1]\n",
        "        else:\n",
        "            b6 = b6_1[1]\n",
        "\n",
        "        b5 = str(hex(packets[i].original[len(packets[i].original)-31]))\n",
        "        b5_1 = b5.split('0x')\n",
        "        if len(b5_1[1]) == 1:\n",
        "            b5='0'+b5_1[1]\n",
        "        else:\n",
        "            b5 = b5_1[1]\n",
        "\n",
        "        b4 = str(hex(packets[i].original[len(packets[i].original)-30]))\n",
        "        b4_1 = b4.split('0x')\n",
        "        if len(b4_1[1]) == 1:\n",
        "            b4='0'+b4_1[1]\n",
        "        else:\n",
        "            b4 = b4_1[1]\n",
        "\n",
        "        b3 = str(hex(packets[i].original[len(packets[i].original)-29]))\n",
        "        b3_1 = b3.split('0x')\n",
        "        if len(b3_1[1]) == 1:\n",
        "            b3='0'+b3_1[1]\n",
        "        else:\n",
        "            b3 = b3_1[1]\n",
        "\n",
        "        b2 = str(hex(packets[i].original[len(packets[i].original)-28]))\n",
        "        b2_1 = b2.split('0x')\n",
        "        if len(b2_1[1]) == 1:\n",
        "            b2='0'+b2_1[1]\n",
        "        else:\n",
        "            b2 = b2_1[1]\n",
        "\n",
        "        b1 = str(hex(packets[i].original[len(packets[i].original)-27]))\n",
        "        b1_1 = b1.split('0x')\n",
        "        if len(b1_1[1]) == 1:\n",
        "            b1='0'+b1_1[1]\n",
        "        else:\n",
        "            b1 = b1_1[1]\n",
        "\n",
        "        b0 = str(hex(packets[i].original[len(packets[i].original)-26]))\n",
        "        b0_1 = b0.split('0x')\n",
        "        if len(b0_1[1]) == 1:\n",
        "            b0='0'+b0_1[1]\n",
        "        else:\n",
        "            b0 = b0_1[1]\n",
        "\n",
        "        actualOutputVoltage_support = '0x'+b1+b0\n",
        "        actualOutputVoltage_support = (int(actualOutputVoltage_support,16)/int(\"4000\",16))\n",
        "        actualOutputVoltage.append(actualOutputVoltage_support)\n",
        "        actualVoltage_support = '0x'+b3+b2\n",
        "        actualVoltage_support = (int(actualVoltage_support,16)/int(\"4000\",16))\n",
        "        actualVoltage.append(actualVoltage_support)\n",
        "        actualPowerFactor_support = '0x'+b5+b4\n",
        "        actualPowerFactor_support = (int(actualPowerFactor_support,16)/int(\"4000\",16))\n",
        "        actualPowerFactor.append(actualPowerFactor_support)\n",
        "        actualTorque_support = '0x'+b7+b6\n",
        "        actualTorque_support = (int(actualTorque_support,16)/int(\"4000\",16))\n",
        "        actualTorque.append(actualTorque_support)\n",
        "        actualCurrent_support = '0x'+b9+b8\n",
        "        actualCurrent_support = (int(actualCurrent_support,16)/int(\"4000\",16))\n",
        "        actualCurrent.append(actualCurrent_support)\n",
        "        actualSpeed_support = '0x'+b11+b10\n",
        "        actualSpeed_support = (int(actualSpeed_support,16)/int(\"4000\",16))\n",
        "        actualSpeed.append(actualSpeed_support)\n",
        "        FlowRate.append(flow)"
      ]
    },
    {
      "cell_type": "code",
      "execution_count": null,
      "metadata": {
        "id": "8eaiWRdZzKdU"
      },
      "outputs": [],
      "source": [
        "fileName = \"/content/drive/MyDrive/Vazao/Vazao-L100-T65/Vazao_R-2750_V-1100_L-100_T-65.pcapng\"\n",
        "\n",
        "packets = rdpcap(fileName)\n",
        "\n",
        "flow=fileName.split(sep='/')\n",
        "flow[len(flow)-1]\n",
        "flow=flow[len(flow)-1].split(sep='_')\n",
        "flow[len(flow)-3]\n",
        "flow=flow[len(flow)-3].split(sep='-')\n",
        "flow[len(flow)-1]\n",
        "flow=flow[len(flow)-1]\n",
        "\n",
        "for i in range(len(packets)):\n",
        "  if packets[i].dst==\"28:63:36:fa:6d:f0\":\n",
        "    if (packets[i].src+packets[i].dst == packets[0].src+packets[0].dst) and (len(packets[i].original)==60):\n",
        "        b11 = str(hex(packets[i].original[len(packets[i].original)-37]))\n",
        "        b11_1 = b11.split('0x')\n",
        "        if len(b11_1[1]) == 1:\n",
        "            b11='0'+b11_1[1]\n",
        "        else:\n",
        "            b11 = b11_1[1]\n",
        "\n",
        "        b10 = str(hex(packets[i].original[len(packets[i].original)-36]))\n",
        "        b10_1 = b10.split('0x')\n",
        "        if len(b10_1[1]) == 1:\n",
        "            b10='0'+b10_1[1]\n",
        "        else:\n",
        "            b10 = b10_1[1]\n",
        "\n",
        "        b9 = str(hex(packets[i].original[len(packets[i].original)-35]))\n",
        "        b9_1 = b9.split('0x')\n",
        "        if len(b9_1[1]) == 1:\n",
        "            b9='0'+b9_1[1]\n",
        "        else:\n",
        "            b9 = b9_1[1]\n",
        "\n",
        "        b8 = str(hex(packets[i].original[len(packets[i].original)-34]))\n",
        "        b8_1 = b8.split('0x')\n",
        "        if len(b8_1[1]) == 1:\n",
        "            b8='0'+b8_1[1]\n",
        "        else:\n",
        "            b8 = b8_1[1]\n",
        "\n",
        "        b7 = str(hex(packets[i].original[len(packets[i].original)-33]))\n",
        "        b7_1 = b7.split('0x')\n",
        "        if len(b7_1[1]) == 1:\n",
        "            b7='0'+b7_1[1]\n",
        "        else:\n",
        "            b7 = b7_1[1]\n",
        "\n",
        "        b6 = str(hex(packets[i].original[len(packets[i].original)-32]))\n",
        "        b6_1 = b6.split('0x')\n",
        "        if len(b6_1[1]) == 1:\n",
        "            b6='0'+b6_1[1]\n",
        "        else:\n",
        "            b6 = b6_1[1]\n",
        "\n",
        "        b5 = str(hex(packets[i].original[len(packets[i].original)-31]))\n",
        "        b5_1 = b5.split('0x')\n",
        "        if len(b5_1[1]) == 1:\n",
        "            b5='0'+b5_1[1]\n",
        "        else:\n",
        "            b5 = b5_1[1]\n",
        "\n",
        "        b4 = str(hex(packets[i].original[len(packets[i].original)-30]))\n",
        "        b4_1 = b4.split('0x')\n",
        "        if len(b4_1[1]) == 1:\n",
        "            b4='0'+b4_1[1]\n",
        "        else:\n",
        "            b4 = b4_1[1]\n",
        "\n",
        "        b3 = str(hex(packets[i].original[len(packets[i].original)-29]))\n",
        "        b3_1 = b3.split('0x')\n",
        "        if len(b3_1[1]) == 1:\n",
        "            b3='0'+b3_1[1]\n",
        "        else:\n",
        "            b3 = b3_1[1]\n",
        "\n",
        "        b2 = str(hex(packets[i].original[len(packets[i].original)-28]))\n",
        "        b2_1 = b2.split('0x')\n",
        "        if len(b2_1[1]) == 1:\n",
        "            b2='0'+b2_1[1]\n",
        "        else:\n",
        "            b2 = b2_1[1]\n",
        "\n",
        "        b1 = str(hex(packets[i].original[len(packets[i].original)-27]))\n",
        "        b1_1 = b1.split('0x')\n",
        "        if len(b1_1[1]) == 1:\n",
        "            b1='0'+b1_1[1]\n",
        "        else:\n",
        "            b1 = b1_1[1]\n",
        "\n",
        "        b0 = str(hex(packets[i].original[len(packets[i].original)-26]))\n",
        "        b0_1 = b0.split('0x')\n",
        "        if len(b0_1[1]) == 1:\n",
        "            b0='0'+b0_1[1]\n",
        "        else:\n",
        "            b0 = b0_1[1]\n",
        "\n",
        "        actualOutputVoltage_support = '0x'+b1+b0\n",
        "        actualOutputVoltage_support = (int(actualOutputVoltage_support,16)/int(\"4000\",16))\n",
        "        actualOutputVoltage.append(actualOutputVoltage_support)\n",
        "        actualVoltage_support = '0x'+b3+b2\n",
        "        actualVoltage_support = (int(actualVoltage_support,16)/int(\"4000\",16))\n",
        "        actualVoltage.append(actualVoltage_support)\n",
        "        actualPowerFactor_support = '0x'+b5+b4\n",
        "        actualPowerFactor_support = (int(actualPowerFactor_support,16)/int(\"4000\",16))\n",
        "        actualPowerFactor.append(actualPowerFactor_support)\n",
        "        actualTorque_support = '0x'+b7+b6\n",
        "        actualTorque_support = (int(actualTorque_support,16)/int(\"4000\",16))\n",
        "        actualTorque.append(actualTorque_support)\n",
        "        actualCurrent_support = '0x'+b9+b8\n",
        "        actualCurrent_support = (int(actualCurrent_support,16)/int(\"4000\",16))\n",
        "        actualCurrent.append(actualCurrent_support)\n",
        "        actualSpeed_support = '0x'+b11+b10\n",
        "        actualSpeed_support = (int(actualSpeed_support,16)/int(\"4000\",16))\n",
        "        actualSpeed.append(actualSpeed_support)\n",
        "        FlowRate.append(flow)"
      ]
    },
    {
      "cell_type": "code",
      "execution_count": null,
      "metadata": {
        "id": "LvuHqJyLzLoa"
      },
      "outputs": [],
      "source": [
        "fileName = \"/content/drive/MyDrive/Vazao/Vazao-L100-T65/Vazao_R-3000_V-1293_L-100_T-65.pcapng\"\n",
        "\n",
        "packets = rdpcap(fileName)\n",
        "\n",
        "flow=fileName.split(sep='/')\n",
        "flow[len(flow)-1]\n",
        "flow=flow[len(flow)-1].split(sep='_')\n",
        "flow[len(flow)-3]\n",
        "flow=flow[len(flow)-3].split(sep='-')\n",
        "flow[len(flow)-1]\n",
        "flow=flow[len(flow)-1]\n",
        "\n",
        "for i in range(len(packets)):\n",
        "  if packets[i].dst==\"28:63:36:fa:6d:f0\":\n",
        "    if (packets[i].src+packets[i].dst == packets[0].src+packets[0].dst) and (len(packets[i].original)==60):\n",
        "        b11 = str(hex(packets[i].original[len(packets[i].original)-37]))\n",
        "        b11_1 = b11.split('0x')\n",
        "        if len(b11_1[1]) == 1:\n",
        "            b11='0'+b11_1[1]\n",
        "        else:\n",
        "            b11 = b11_1[1]\n",
        "\n",
        "        b10 = str(hex(packets[i].original[len(packets[i].original)-36]))\n",
        "        b10_1 = b10.split('0x')\n",
        "        if len(b10_1[1]) == 1:\n",
        "            b10='0'+b10_1[1]\n",
        "        else:\n",
        "            b10 = b10_1[1]\n",
        "\n",
        "        b9 = str(hex(packets[i].original[len(packets[i].original)-35]))\n",
        "        b9_1 = b9.split('0x')\n",
        "        if len(b9_1[1]) == 1:\n",
        "            b9='0'+b9_1[1]\n",
        "        else:\n",
        "            b9 = b9_1[1]\n",
        "\n",
        "        b8 = str(hex(packets[i].original[len(packets[i].original)-34]))\n",
        "        b8_1 = b8.split('0x')\n",
        "        if len(b8_1[1]) == 1:\n",
        "            b8='0'+b8_1[1]\n",
        "        else:\n",
        "            b8 = b8_1[1]\n",
        "\n",
        "        b7 = str(hex(packets[i].original[len(packets[i].original)-33]))\n",
        "        b7_1 = b7.split('0x')\n",
        "        if len(b7_1[1]) == 1:\n",
        "            b7='0'+b7_1[1]\n",
        "        else:\n",
        "            b7 = b7_1[1]\n",
        "\n",
        "        b6 = str(hex(packets[i].original[len(packets[i].original)-32]))\n",
        "        b6_1 = b6.split('0x')\n",
        "        if len(b6_1[1]) == 1:\n",
        "            b6='0'+b6_1[1]\n",
        "        else:\n",
        "            b6 = b6_1[1]\n",
        "\n",
        "        b5 = str(hex(packets[i].original[len(packets[i].original)-31]))\n",
        "        b5_1 = b5.split('0x')\n",
        "        if len(b5_1[1]) == 1:\n",
        "            b5='0'+b5_1[1]\n",
        "        else:\n",
        "            b5 = b5_1[1]\n",
        "\n",
        "        b4 = str(hex(packets[i].original[len(packets[i].original)-30]))\n",
        "        b4_1 = b4.split('0x')\n",
        "        if len(b4_1[1]) == 1:\n",
        "            b4='0'+b4_1[1]\n",
        "        else:\n",
        "            b4 = b4_1[1]\n",
        "\n",
        "        b3 = str(hex(packets[i].original[len(packets[i].original)-29]))\n",
        "        b3_1 = b3.split('0x')\n",
        "        if len(b3_1[1]) == 1:\n",
        "            b3='0'+b3_1[1]\n",
        "        else:\n",
        "            b3 = b3_1[1]\n",
        "\n",
        "        b2 = str(hex(packets[i].original[len(packets[i].original)-28]))\n",
        "        b2_1 = b2.split('0x')\n",
        "        if len(b2_1[1]) == 1:\n",
        "            b2='0'+b2_1[1]\n",
        "        else:\n",
        "            b2 = b2_1[1]\n",
        "\n",
        "        b1 = str(hex(packets[i].original[len(packets[i].original)-27]))\n",
        "        b1_1 = b1.split('0x')\n",
        "        if len(b1_1[1]) == 1:\n",
        "            b1='0'+b1_1[1]\n",
        "        else:\n",
        "            b1 = b1_1[1]\n",
        "\n",
        "        b0 = str(hex(packets[i].original[len(packets[i].original)-26]))\n",
        "        b0_1 = b0.split('0x')\n",
        "        if len(b0_1[1]) == 1:\n",
        "            b0='0'+b0_1[1]\n",
        "        else:\n",
        "            b0 = b0_1[1]\n",
        "\n",
        "        actualOutputVoltage_support = '0x'+b1+b0\n",
        "        actualOutputVoltage_support = (int(actualOutputVoltage_support,16)/int(\"4000\",16))\n",
        "        actualOutputVoltage.append(actualOutputVoltage_support)\n",
        "        actualVoltage_support = '0x'+b3+b2\n",
        "        actualVoltage_support = (int(actualVoltage_support,16)/int(\"4000\",16))\n",
        "        actualVoltage.append(actualVoltage_support)\n",
        "        actualPowerFactor_support = '0x'+b5+b4\n",
        "        actualPowerFactor_support = (int(actualPowerFactor_support,16)/int(\"4000\",16))\n",
        "        actualPowerFactor.append(actualPowerFactor_support)\n",
        "        actualTorque_support = '0x'+b7+b6\n",
        "        actualTorque_support = (int(actualTorque_support,16)/int(\"4000\",16))\n",
        "        actualTorque.append(actualTorque_support)\n",
        "        actualCurrent_support = '0x'+b9+b8\n",
        "        actualCurrent_support = (int(actualCurrent_support,16)/int(\"4000\",16))\n",
        "        actualCurrent.append(actualCurrent_support)\n",
        "        actualSpeed_support = '0x'+b11+b10\n",
        "        actualSpeed_support = (int(actualSpeed_support,16)/int(\"4000\",16))\n",
        "        actualSpeed.append(actualSpeed_support)\n",
        "        FlowRate.append(flow)"
      ]
    },
    {
      "cell_type": "code",
      "execution_count": null,
      "metadata": {
        "id": "TsVNF1k0zMb6"
      },
      "outputs": [],
      "source": [
        "fileName = \"/content/drive/MyDrive/Vazao/Vazao-L100-T65/Vazao_R-3200_V-1425_L-100_T-65.pcapng\"\n",
        "\n",
        "packets = rdpcap(fileName)\n",
        "\n",
        "flow=fileName.split(sep='/')\n",
        "flow[len(flow)-1]\n",
        "flow=flow[len(flow)-1].split(sep='_')\n",
        "flow[len(flow)-3]\n",
        "flow=flow[len(flow)-3].split(sep='-')\n",
        "flow[len(flow)-1]\n",
        "flow=flow[len(flow)-1]\n",
        "\n",
        "for i in range(len(packets)):\n",
        "  if packets[i].dst==\"28:63:36:fa:6d:f0\":\n",
        "    if (packets[i].src+packets[i].dst == packets[0].src+packets[0].dst) and (len(packets[i].original)==60):\n",
        "        b11 = str(hex(packets[i].original[len(packets[i].original)-37]))\n",
        "        b11_1 = b11.split('0x')\n",
        "        if len(b11_1[1]) == 1:\n",
        "            b11='0'+b11_1[1]\n",
        "        else:\n",
        "            b11 = b11_1[1]\n",
        "\n",
        "        b10 = str(hex(packets[i].original[len(packets[i].original)-36]))\n",
        "        b10_1 = b10.split('0x')\n",
        "        if len(b10_1[1]) == 1:\n",
        "            b10='0'+b10_1[1]\n",
        "        else:\n",
        "            b10 = b10_1[1]\n",
        "\n",
        "        b9 = str(hex(packets[i].original[len(packets[i].original)-35]))\n",
        "        b9_1 = b9.split('0x')\n",
        "        if len(b9_1[1]) == 1:\n",
        "            b9='0'+b9_1[1]\n",
        "        else:\n",
        "            b9 = b9_1[1]\n",
        "\n",
        "        b8 = str(hex(packets[i].original[len(packets[i].original)-34]))\n",
        "        b8_1 = b8.split('0x')\n",
        "        if len(b8_1[1]) == 1:\n",
        "            b8='0'+b8_1[1]\n",
        "        else:\n",
        "            b8 = b8_1[1]\n",
        "\n",
        "        b7 = str(hex(packets[i].original[len(packets[i].original)-33]))\n",
        "        b7_1 = b7.split('0x')\n",
        "        if len(b7_1[1]) == 1:\n",
        "            b7='0'+b7_1[1]\n",
        "        else:\n",
        "            b7 = b7_1[1]\n",
        "\n",
        "        b6 = str(hex(packets[i].original[len(packets[i].original)-32]))\n",
        "        b6_1 = b6.split('0x')\n",
        "        if len(b6_1[1]) == 1:\n",
        "            b6='0'+b6_1[1]\n",
        "        else:\n",
        "            b6 = b6_1[1]\n",
        "\n",
        "        b5 = str(hex(packets[i].original[len(packets[i].original)-31]))\n",
        "        b5_1 = b5.split('0x')\n",
        "        if len(b5_1[1]) == 1:\n",
        "            b5='0'+b5_1[1]\n",
        "        else:\n",
        "            b5 = b5_1[1]\n",
        "\n",
        "        b4 = str(hex(packets[i].original[len(packets[i].original)-30]))\n",
        "        b4_1 = b4.split('0x')\n",
        "        if len(b4_1[1]) == 1:\n",
        "            b4='0'+b4_1[1]\n",
        "        else:\n",
        "            b4 = b4_1[1]\n",
        "\n",
        "        b3 = str(hex(packets[i].original[len(packets[i].original)-29]))\n",
        "        b3_1 = b3.split('0x')\n",
        "        if len(b3_1[1]) == 1:\n",
        "            b3='0'+b3_1[1]\n",
        "        else:\n",
        "            b3 = b3_1[1]\n",
        "\n",
        "        b2 = str(hex(packets[i].original[len(packets[i].original)-28]))\n",
        "        b2_1 = b2.split('0x')\n",
        "        if len(b2_1[1]) == 1:\n",
        "            b2='0'+b2_1[1]\n",
        "        else:\n",
        "            b2 = b2_1[1]\n",
        "\n",
        "        b1 = str(hex(packets[i].original[len(packets[i].original)-27]))\n",
        "        b1_1 = b1.split('0x')\n",
        "        if len(b1_1[1]) == 1:\n",
        "            b1='0'+b1_1[1]\n",
        "        else:\n",
        "            b1 = b1_1[1]\n",
        "\n",
        "        b0 = str(hex(packets[i].original[len(packets[i].original)-26]))\n",
        "        b0_1 = b0.split('0x')\n",
        "        if len(b0_1[1]) == 1:\n",
        "            b0='0'+b0_1[1]\n",
        "        else:\n",
        "            b0 = b0_1[1]\n",
        "\n",
        "        actualOutputVoltage_support = '0x'+b1+b0\n",
        "        actualOutputVoltage_support = (int(actualOutputVoltage_support,16)/int(\"4000\",16))\n",
        "        actualOutputVoltage.append(actualOutputVoltage_support)\n",
        "        actualVoltage_support = '0x'+b3+b2\n",
        "        actualVoltage_support = (int(actualVoltage_support,16)/int(\"4000\",16))\n",
        "        actualVoltage.append(actualVoltage_support)\n",
        "        actualPowerFactor_support = '0x'+b5+b4\n",
        "        actualPowerFactor_support = (int(actualPowerFactor_support,16)/int(\"4000\",16))\n",
        "        actualPowerFactor.append(actualPowerFactor_support)\n",
        "        actualTorque_support = '0x'+b7+b6\n",
        "        actualTorque_support = (int(actualTorque_support,16)/int(\"4000\",16))\n",
        "        actualTorque.append(actualTorque_support)\n",
        "        actualCurrent_support = '0x'+b9+b8\n",
        "        actualCurrent_support = (int(actualCurrent_support,16)/int(\"4000\",16))\n",
        "        actualCurrent.append(actualCurrent_support)\n",
        "        actualSpeed_support = '0x'+b11+b10\n",
        "        actualSpeed_support = (int(actualSpeed_support,16)/int(\"4000\",16))\n",
        "        actualSpeed.append(actualSpeed_support)\n",
        "        FlowRate.append(flow)"
      ]
    },
    {
      "cell_type": "code",
      "execution_count": null,
      "metadata": {
        "id": "W6wOZAhkvFDQ"
      },
      "outputs": [],
      "source": [
        "df = pd.DataFrame(FlowRate,\n",
        "                  columns=['FlowRate'])\n",
        "\n",
        "df['Speed'] = pd.DataFrame(actualSpeed,\n",
        "                  columns=['Speed'])\n",
        "\n",
        "df['Current'] = pd.DataFrame(actualCurrent,\n",
        "                  columns=['Current'])\n",
        "\n",
        "df['Torque'] = pd.DataFrame(actualTorque,\n",
        "                  columns=['Torque'])\n",
        "\n",
        "df['PowerFactor'] = pd.DataFrame(actualPowerFactor,\n",
        "                  columns=['PowerFactor'])\n",
        "\n",
        "df['OutputVoltage'] = pd.DataFrame(actualOutputVoltage,\n",
        "                  columns=['OutputVoltage'])\n",
        "\n",
        "df['ActualVoltage'] = pd.DataFrame(actualVoltage,\n",
        "                  columns=['ActualVoltage'])"
      ]
    },
    {
      "cell_type": "code",
      "execution_count": null,
      "metadata": {
        "id": "zAFEbRwsLYQm"
      },
      "outputs": [],
      "source": [
        "df"
      ]
    },
    {
      "cell_type": "code",
      "execution_count": null,
      "metadata": {
        "id": "nLEkRnEMqDr6"
      },
      "outputs": [],
      "source": [
        "df.to_csv(fileName+'.csv',index=False)\n",
        "\n",
        "files.download(fileName+'.csv')"
      ]
    },
    {
      "cell_type": "markdown",
      "metadata": {
        "id": "eV6NQ-hE2CoZ"
      },
      "source": [
        "#Extrair Atributos"
      ]
    },
    {
      "cell_type": "code",
      "execution_count": null,
      "metadata": {
        "id": "cc6V_HGb2ZPx"
      },
      "outputs": [],
      "source": [
        "header_row=['FlowRate','Speed','Current','Torque', 'PowerFactor', 'OutputVoltage', 'ActualVoltage', 'Level', 'Temperature']\n",
        "df = pd.read_csv('/content/drive/MyDrive/TCC/dataset.csv', names=header_row)"
      ]
    },
    {
      "cell_type": "code",
      "execution_count": null,
      "metadata": {
        "id": "yB5dsLHXyuAH"
      },
      "outputs": [],
      "source": [
        "df"
      ]
    },
    {
      "cell_type": "code",
      "execution_count": null,
      "metadata": {
        "id": "Nq2GcOx-6sQd"
      },
      "outputs": [],
      "source": [
        "dfExtract = []\n",
        "FlowRate = []\n",
        "Speed = []\n",
        "auxC1 = []\n",
        "auxC2 = []\n",
        "auxC3 = []\n",
        "auxT1 = []\n",
        "auxT2 = []\n",
        "auxT3 = []\n",
        "auxP1 = []\n",
        "auxP2 = []\n",
        "auxP3 = []\n",
        "auxOV1 = []\n",
        "auxOV2 = []\n",
        "auxOV3 = []\n",
        "auxAV1 = []\n",
        "auxAV2 = []\n",
        "auxAV3 = []\n",
        "Temperature = []\n",
        "\n",
        "inc = 1000  #100 = 1s  || 1000 = 10s\n",
        "for i in range(0,len(df),inc):\n",
        "  if df.FlowRate[i]>=100 and df.FlowRate[i]<=1100:\n",
        "    if len(df)>i+inc:\n",
        "      if df.FlowRate[i] == df.FlowRate[i+inc]:\n",
        "        aux_1=statistics.mean(df.FlowRate[i:i+inc])\n",
        "        FlowRate.append(aux_1)\n",
        "\n",
        "        aux_1=statistics.mean(df.Speed[i:i+inc])\n",
        "        Speed.append(aux_1)\n",
        "\n",
        "        aux_1=statistics.mean(df.Current[i:i+inc])\n",
        "        auxC1.append(aux_1)\n",
        "        aux_1=statistics.stdev(df.Current[i:i+inc])\n",
        "        auxC2.append(aux_1)\n",
        "        aux_1=statistics.variance(df.Current[i:i+inc])\n",
        "        auxC3.append(aux_1)\n",
        "\n",
        "        aux_1=statistics.mean(df.Torque[i:i+inc])\n",
        "        auxT1.append(aux_1)\n",
        "        aux_1=statistics.stdev(df.Torque[i:i+inc])\n",
        "        auxT2.append(aux_1)\n",
        "        aux_1=statistics.variance(df.Torque[i:i+inc])\n",
        "        auxT3.append(aux_1)\n",
        "\n",
        "        aux_1=statistics.mean(df.PowerFactor[i:i+inc])\n",
        "        auxP1.append(aux_1)\n",
        "        aux_1=statistics.stdev(df.PowerFactor[i:i+inc])\n",
        "        auxP2.append(aux_1)\n",
        "        aux_1=statistics.variance(df.PowerFactor[i:i+inc])\n",
        "        auxP3.append(aux_1)\n",
        "\n",
        "        aux_1=statistics.mean(df.OutputVoltage[i:i+inc])\n",
        "        auxOV1.append(aux_1)\n",
        "        aux_1=statistics.stdev(df.OutputVoltage[i:i+inc])\n",
        "        auxOV2.append(aux_1)\n",
        "        aux_1=statistics.variance(df.OutputVoltage[i:i+inc])\n",
        "        auxOV3.append(aux_1)\n",
        "\n",
        "        aux_1=statistics.mean(df.ActualVoltage[i:i+inc])\n",
        "        auxAV1.append(aux_1)\n",
        "        aux_1=statistics.stdev(df.ActualVoltage[i:i+inc])\n",
        "        auxAV2.append(aux_1)\n",
        "        aux_1=statistics.variance(df.ActualVoltage[i:i+inc])\n",
        "        auxAV3.append(aux_1)\n",
        "\n",
        "        aux_1=statistics.mean(df.Temperature[i:i+inc])\n",
        "        Temperature.append(aux_1)"
      ]
    },
    {
      "cell_type": "code",
      "execution_count": null,
      "metadata": {
        "id": "XOQfIm_5y3e-"
      },
      "outputs": [],
      "source": [
        "dfExtract = pd.DataFrame(FlowRate,columns=['FlowRate'])\n",
        "dfExtract['Speed'] = pd.DataFrame(Speed)\n",
        "dfExtract['mean_Current'] = pd.DataFrame(auxC1)\n",
        "dfExtract['stdev_Current'] = pd.DataFrame(auxC2)\n",
        "dfExtract['variance_Current'] = pd.DataFrame(auxC3)\n",
        "dfExtract['mean_Torque'] = pd.DataFrame(auxT1)\n",
        "dfExtract['stdev_Torque'] = pd.DataFrame(auxT2)\n",
        "dfExtract['variance_Torque'] = pd.DataFrame(auxT3)\n",
        "dfExtract['mean_PowerFactor'] = pd.DataFrame(auxP1)\n",
        "dfExtract['stdev_PowerFactor'] = pd.DataFrame(auxP2)\n",
        "dfExtract['variance_PowerFactor'] = pd.DataFrame(auxP3)\n",
        "dfExtract['mean_OutputVoltage'] = pd.DataFrame(auxOV1)\n",
        "dfExtract['stdev_OutputVoltage'] = pd.DataFrame(auxOV2)\n",
        "dfExtract['variance_OutputVoltage'] = pd.DataFrame(auxOV3)\n",
        "dfExtract['mean_ActualVoltage'] = pd.DataFrame(auxAV1)\n",
        "dfExtract['stdev_ActualVoltage'] = pd.DataFrame(auxAV2)\n",
        "dfExtract['variance_ActualVoltage'] = pd.DataFrame(auxAV3)"
      ]
    },
    {
      "cell_type": "code",
      "execution_count": null,
      "metadata": {
        "id": "VetKcFwUCVFM"
      },
      "outputs": [],
      "source": [
        "dfExtract"
      ]
    },
    {
      "cell_type": "code",
      "execution_count": null,
      "metadata": {
        "id": "1bu0R_Oz2LDl"
      },
      "outputs": [],
      "source": [
        "dfExtract.to_csv('dataset-Extract10sReduzido'+'.csv',index=False)\n",
        "\n",
        "files.download('dataset-Extract10sReduzido'+'.csv')"
      ]
    },
    {
      "cell_type": "markdown",
      "metadata": {
        "id": "7pTnNU-RLDu3"
      },
      "source": [
        "# Programa Sem Extração de Atributos"
      ]
    },
    {
      "cell_type": "markdown",
      "metadata": {
        "id": "7PuFPv4rRCGh"
      },
      "source": [
        "## Inicio"
      ]
    },
    {
      "cell_type": "code",
      "execution_count": null,
      "metadata": {
        "id": "RsGrbbOPd4b_"
      },
      "outputs": [],
      "source": [
        "header_row=['FlowRate','Speed','Current','Torque', 'PowerFactor', 'OutputVoltage', 'ActualVoltage', 'Level', 'Temperature']\n",
        "df = pd.read_csv('/content/drive/MyDrive/TCC/dataset.csv', names=header_row)"
      ]
    },
    {
      "cell_type": "code",
      "execution_count": null,
      "metadata": {
        "id": "OPcApp4wQrZK"
      },
      "outputs": [],
      "source": [
        "x = df.drop(['FlowRate'], axis = 1)\n",
        "y = df['FlowRate']\n",
        "x_train, x_test, y_train, y_test = train_test_split(x, y, test_size = 0.25, random_state = 0)"
      ]
    },
    {
      "cell_type": "code",
      "execution_count": null,
      "metadata": {
        "id": "zt0qwERfe-fn"
      },
      "outputs": [],
      "source": [
        "df"
      ]
    },
    {
      "cell_type": "code",
      "execution_count": null,
      "metadata": {
        "id": "ZsZx4LlW21zW"
      },
      "outputs": [],
      "source": [
        "#sns.pairplot(df)"
      ]
    },
    {
      "cell_type": "code",
      "execution_count": null,
      "metadata": {
        "id": "UmuAuXhFwh2D"
      },
      "outputs": [],
      "source": [
        "#plt.plot(df.Speed,df.FlowRate,'ro')\n",
        "#plt.title('Speed')"
      ]
    },
    {
      "cell_type": "code",
      "execution_count": null,
      "metadata": {
        "id": "gmzN8hIHhOq-"
      },
      "outputs": [],
      "source": [
        "#plt.plot(df.Current[1:100]*3.08)\n",
        "#plt.title('Current')"
      ]
    },
    {
      "cell_type": "code",
      "execution_count": null,
      "metadata": {
        "id": "BvP-6WCg5Pu1"
      },
      "outputs": [],
      "source": [
        "#plt.plot(df.Speed*3470,df.FlowRate)"
      ]
    },
    {
      "cell_type": "markdown",
      "metadata": {
        "id": "C9EWJbk0QyGC"
      },
      "source": [
        "## Pycaret"
      ]
    },
    {
      "cell_type": "code",
      "execution_count": null,
      "metadata": {
        "id": "yzpmzjWVJA-6"
      },
      "outputs": [],
      "source": [
        "pip install --pre pycaret"
      ]
    },
    {
      "cell_type": "code",
      "execution_count": null,
      "metadata": {
        "id": "5XA0ERIGJm2-"
      },
      "outputs": [],
      "source": [
        "!pip install pycaret"
      ]
    },
    {
      "cell_type": "code",
      "execution_count": null,
      "metadata": {
        "id": "kJLYkLydO3YV"
      },
      "outputs": [],
      "source": [
        "data=df"
      ]
    },
    {
      "cell_type": "code",
      "execution_count": null,
      "metadata": {
        "id": "kDH99pKbJjp3"
      },
      "outputs": [],
      "source": [
        "from pycaret.regression import *\n",
        "clf=setup(data=df,target='FlowRate')"
      ]
    },
    {
      "cell_type": "code",
      "execution_count": null,
      "metadata": {
        "id": "rJPGnFZHI_cj"
      },
      "outputs": [],
      "source": [
        "best_model = compare_models()"
      ]
    },
    {
      "cell_type": "code",
      "execution_count": null,
      "metadata": {
        "id": "gsSAi5IFALPG"
      },
      "outputs": [],
      "source": [
        "lr = create_model('lr')"
      ]
    },
    {
      "cell_type": "code",
      "execution_count": null,
      "metadata": {
        "id": "AG1R2kbZNyV6"
      },
      "outputs": [],
      "source": [
        "br = create_model('br')"
      ]
    },
    {
      "cell_type": "markdown",
      "metadata": {
        "id": "jkO7xuLBAvEV"
      },
      "source": [
        "## Treinamentos"
      ]
    },
    {
      "cell_type": "markdown",
      "metadata": {
        "id": "19rGLhSuAzVI"
      },
      "source": [
        "### Bayesian Ridge"
      ]
    },
    {
      "cell_type": "code",
      "execution_count": null,
      "metadata": {
        "id": "BC_wc3WlRy2W"
      },
      "outputs": [],
      "source": [
        "from sklearn.linear_model import BayesianRidge"
      ]
    },
    {
      "cell_type": "code",
      "execution_count": null,
      "metadata": {
        "id": "9xDt98WERzVj"
      },
      "outputs": [],
      "source": [
        "br\n",
        "br.fit(x_train, y_train)"
      ]
    },
    {
      "cell_type": "code",
      "execution_count": null,
      "metadata": {
        "id": "6xnzGZLgSaFF"
      },
      "outputs": [],
      "source": [
        "br.coef_"
      ]
    },
    {
      "cell_type": "code",
      "execution_count": null,
      "metadata": {
        "id": "-gbM2Q55SalP"
      },
      "outputs": [],
      "source": [
        "br.intercept_"
      ]
    },
    {
      "cell_type": "code",
      "execution_count": null,
      "metadata": {
        "id": "h4hDWuT6TyIg"
      },
      "outputs": [],
      "source": [
        "y_pred = br.predict(x_test)\n",
        "Erro = y_pred - y_test;"
      ]
    },
    {
      "cell_type": "code",
      "execution_count": null,
      "metadata": {
        "id": "7nab4whRT31K"
      },
      "outputs": [],
      "source": [
        "Erro.mean()"
      ]
    },
    {
      "cell_type": "code",
      "execution_count": null,
      "metadata": {
        "id": "Fl1rPWtgT3nm"
      },
      "outputs": [],
      "source": [
        "Erro.std()"
      ]
    },
    {
      "cell_type": "code",
      "execution_count": null,
      "metadata": {
        "id": "17p4xeAvT3bF"
      },
      "outputs": [],
      "source": [
        "mean_squared_error(y_test, y_pred)"
      ]
    },
    {
      "cell_type": "code",
      "execution_count": null,
      "metadata": {
        "id": "PL_kq02UUGc-"
      },
      "outputs": [],
      "source": [
        "plt.plot(y_test[1:10000],y_pred[1:10000])"
      ]
    },
    {
      "cell_type": "markdown",
      "metadata": {
        "id": "xYlU3ObdA6i3"
      },
      "source": [
        "### Linear Regression"
      ]
    },
    {
      "cell_type": "code",
      "execution_count": null,
      "metadata": {
        "id": "Q2SroH4pAtp4"
      },
      "outputs": [],
      "source": [
        "from sklearn.linear_model import LinearRegression"
      ]
    },
    {
      "cell_type": "code",
      "execution_count": null,
      "metadata": {
        "id": "uh3fQ88DBVA5"
      },
      "outputs": [],
      "source": [
        "#lr = LinearRegression(n_jobs=-1)\n",
        "lr\n",
        "lr.fit(x_train, y_train)"
      ]
    },
    {
      "cell_type": "code",
      "execution_count": null,
      "metadata": {
        "id": "64jqByCFBr_O"
      },
      "outputs": [],
      "source": [
        "lr.coef_"
      ]
    },
    {
      "cell_type": "code",
      "execution_count": null,
      "metadata": {
        "id": "11Nk2cbrBvXf"
      },
      "outputs": [],
      "source": [
        "lr.intercept_"
      ]
    },
    {
      "cell_type": "code",
      "execution_count": null,
      "metadata": {
        "id": "spsekoTpBy3_"
      },
      "outputs": [],
      "source": [
        "y_pred = lr.predict(x_test)\n",
        "Erro = y_pred - y_test;"
      ]
    },
    {
      "cell_type": "code",
      "execution_count": null,
      "metadata": {
        "id": "puHtKg9WB0g6"
      },
      "outputs": [],
      "source": [
        "Erro.mean()"
      ]
    },
    {
      "cell_type": "code",
      "execution_count": null,
      "metadata": {
        "id": "THuGy-DWB2bo"
      },
      "outputs": [],
      "source": [
        "Erro.std()"
      ]
    },
    {
      "cell_type": "code",
      "execution_count": null,
      "metadata": {
        "id": "qtKlU1qWB5VA"
      },
      "outputs": [],
      "source": [
        "mean_squared_error(y_test, y_pred)"
      ]
    },
    {
      "cell_type": "code",
      "execution_count": null,
      "metadata": {
        "id": "GCUBoMJsB7AY"
      },
      "outputs": [],
      "source": [
        "plt.plot(y_test[1:10000],y_pred[1:10000])"
      ]
    },
    {
      "cell_type": "markdown",
      "metadata": {
        "id": "xhPNlC4_M78p"
      },
      "source": [
        "### RNA"
      ]
    },
    {
      "cell_type": "code",
      "execution_count": null,
      "metadata": {
        "id": "gFruznEEM-Gp"
      },
      "outputs": [],
      "source": [
        "from sklearn.neural_network import MLPClassifier\n",
        "from sklearn.model_selection import GridSearchCV"
      ]
    },
    {
      "cell_type": "markdown",
      "metadata": {
        "id": "S-e6RHc2X7M6"
      },
      "source": [
        "#### lbfgs"
      ]
    },
    {
      "cell_type": "code",
      "execution_count": null,
      "metadata": {
        "id": "-AUpnng7NLk4"
      },
      "outputs": [],
      "source": [
        "#clf = MLPClassifier(hidden_layer_sizes=(3,3), activation=\"identity\", solver='lbfgs', alpha=1e-5, random_state=1)\n",
        "clf = MLPClassifier(hidden_layer_sizes=(10,100,10,100,10), activation=\"identity\", solver='lbfgs', alpha=1e-5, random_state=1)\n",
        "clf.fit(x_train, y_train)\n",
        "prediction = clf.predict(x_test)\n",
        "Erro = prediction - y_test;"
      ]
    },
    {
      "cell_type": "code",
      "execution_count": null,
      "metadata": {
        "id": "IOdaeDuF3BTs"
      },
      "outputs": [],
      "source": [
        "clf.coefs_"
      ]
    },
    {
      "cell_type": "code",
      "execution_count": null,
      "metadata": {
        "id": "YDL1KSwZXpuI"
      },
      "outputs": [],
      "source": [
        "Erro.mean()"
      ]
    },
    {
      "cell_type": "code",
      "execution_count": null,
      "metadata": {
        "id": "iL-XaEzXXrvz"
      },
      "outputs": [],
      "source": [
        "Erro.std()"
      ]
    },
    {
      "cell_type": "code",
      "execution_count": null,
      "metadata": {
        "id": "t2AoT8PRXtUw"
      },
      "outputs": [],
      "source": [
        "mean_squared_error(prediction, y_test)"
      ]
    },
    {
      "cell_type": "markdown",
      "metadata": {
        "id": "OAcr0D-eYBRQ"
      },
      "source": [
        "#### sgd"
      ]
    },
    {
      "cell_type": "code",
      "execution_count": null,
      "metadata": {
        "id": "P_HnV7jCXyQx"
      },
      "outputs": [],
      "source": [
        "clf = MLPClassifier(hidden_layer_sizes=(10,10), activation=\"identity\", solver='sgd', alpha=1e-5, random_state=1)\n",
        "clf.fit(x_train, y_train)\n",
        "prediction = clf.predict(x_test)\n",
        "Erro = prediction - y_test;"
      ]
    },
    {
      "cell_type": "code",
      "execution_count": null,
      "metadata": {
        "id": "B5lDYeWfYLGZ"
      },
      "outputs": [],
      "source": [
        "Erro.mean()"
      ]
    },
    {
      "cell_type": "code",
      "execution_count": null,
      "metadata": {
        "id": "Dxrg-NtNYL2-"
      },
      "outputs": [],
      "source": [
        "Erro.std()"
      ]
    },
    {
      "cell_type": "code",
      "execution_count": null,
      "metadata": {
        "id": "br75_0DsYMwf"
      },
      "outputs": [],
      "source": [
        "mean_squared_error(prediction, y_test)"
      ]
    },
    {
      "cell_type": "markdown",
      "metadata": {
        "id": "n_w55LS0YEEK"
      },
      "source": [
        "#### adam"
      ]
    },
    {
      "cell_type": "code",
      "execution_count": null,
      "metadata": {
        "id": "tc2oPZ7xX04J"
      },
      "outputs": [],
      "source": [
        "clf = MLPClassifier(hidden_layer_sizes=(10,10), activation=\"identity\", solver='adam', alpha=1e-5, random_state=1)\n",
        "clf.fit(x_train, y_train)\n",
        "prediction = clf.predict(x_test)\n",
        "Erro = prediction - y_test;"
      ]
    },
    {
      "cell_type": "code",
      "execution_count": null,
      "metadata": {
        "id": "AKhwIXsdYPke"
      },
      "outputs": [],
      "source": [
        "Erro.mean()"
      ]
    },
    {
      "cell_type": "code",
      "execution_count": null,
      "metadata": {
        "id": "1QcKhqT6YO2_"
      },
      "outputs": [],
      "source": [
        "Erro.std()"
      ]
    },
    {
      "cell_type": "code",
      "execution_count": null,
      "metadata": {
        "id": "AMwP1udPYOEP"
      },
      "outputs": [],
      "source": [
        "mean_squared_error(y_test, prediction)"
      ]
    },
    {
      "cell_type": "code",
      "execution_count": null,
      "metadata": {
        "id": "u1QWc2HyH7ao"
      },
      "outputs": [],
      "source": [
        "plt.plot(prediction,y_test)"
      ]
    },
    {
      "cell_type": "code",
      "execution_count": null,
      "metadata": {
        "id": "xFrV7uY3KoXC"
      },
      "outputs": [],
      "source": [
        "from sklearn.model_selection import cross_val_score\n",
        "from sklearn import metrics\n",
        "scores = cross_val_score(clf, x, y, cv=10, scoring='r2')\n",
        "print(scores)\n",
        "print(\"Valor médio de R2: %0.2f   Com desvio padrão de %0.2f\" % (scores.mean(), scores.std()))"
      ]
    },
    {
      "cell_type": "markdown",
      "metadata": {
        "id": "VuCcD3qfwJUg"
      },
      "source": [
        "# Programa Dados Extraidos"
      ]
    },
    {
      "cell_type": "markdown",
      "metadata": {
        "id": "bcEbJGi8wRXO"
      },
      "source": [
        "## Inicio"
      ]
    },
    {
      "cell_type": "code",
      "execution_count": null,
      "metadata": {
        "id": "C2EH_ZTzwRXO"
      },
      "outputs": [],
      "source": [
        "df = pd.read_csv('/content/drive/MyDrive/TCC/dataset-Extract10s.csv')"
      ]
    },
    {
      "cell_type": "code",
      "execution_count": null,
      "metadata": {
        "id": "3k3kcsxkcD1E"
      },
      "outputs": [],
      "source": [
        "header_row=['FlowRate','Speed','Current','Torque', 'PowerFactor', 'OutputVoltage', 'ActualVoltage', 'Level', 'Temperature']\n",
        "df = pd.read_csv('/content/drive/MyDrive/TCC/dataset.csv', names=header_row)"
      ]
    },
    {
      "cell_type": "code",
      "execution_count": null,
      "metadata": {
        "id": "sp8fFEm1DbpI"
      },
      "outputs": [],
      "source": [
        "df"
      ]
    },
    {
      "cell_type": "code",
      "execution_count": null,
      "metadata": {
        "id": "zEPJFvgkwRXP"
      },
      "outputs": [],
      "source": [
        "#x = df[['Speed', 'mean_Current', 'mean_Torque', 'mean_PowerFactor', 'mean_OutputVoltage', 'mean_ActualVoltage']]\n",
        "x = df[['Speed']]\n",
        "y = df['FlowRate']\n",
        "x_train, x_test, y_train, y_test = train_test_split(x, y, test_size = 0.25, random_state = 0)"
      ]
    },
    {
      "cell_type": "markdown",
      "metadata": {
        "id": "b9vEur6J6mDZ"
      },
      "source": []
    },
    {
      "cell_type": "code",
      "execution_count": null,
      "metadata": {
        "id": "2d_AXqnovuzB"
      },
      "outputs": [],
      "source": [
        "x = df.drop(['FlowRate'], axis = 1)\n",
        "y = df['FlowRate']\n",
        "x_train, x_test, y_train, y_test = train_test_split(x, y, test_size = 0.25, random_state = 0)"
      ]
    },
    {
      "cell_type": "markdown",
      "metadata": {
        "id": "98LwGcxJQApQ"
      },
      "source": [
        "### Linear Regression"
      ]
    },
    {
      "cell_type": "code",
      "execution_count": null,
      "metadata": {
        "id": "no-xYz2zQApR"
      },
      "outputs": [],
      "source": [
        "from sklearn.linear_model import LinearRegression\n",
        "from sklearn.metrics import mean_squared_error"
      ]
    },
    {
      "cell_type": "code",
      "execution_count": null,
      "metadata": {
        "id": "rbqoQJL5QApR"
      },
      "outputs": [],
      "source": [
        "lr = LinearRegression(n_jobs=-1)\n",
        "lr.fit(x_train, y_train)"
      ]
    },
    {
      "cell_type": "code",
      "execution_count": null,
      "metadata": {
        "id": "4SbXiOAnQApS"
      },
      "outputs": [],
      "source": [
        "lr.coef_"
      ]
    },
    {
      "cell_type": "code",
      "execution_count": null,
      "metadata": {
        "id": "CPDF-OzIQApS"
      },
      "outputs": [],
      "source": [
        "lr.intercept_"
      ]
    },
    {
      "cell_type": "code",
      "execution_count": null,
      "metadata": {
        "id": "R_XENMFAQApT"
      },
      "outputs": [],
      "source": [
        "y_pred = lr.predict(x_test)\n",
        "Erro = y_pred - y_test;"
      ]
    },
    {
      "cell_type": "code",
      "execution_count": null,
      "metadata": {
        "id": "U7XunzDyQApT"
      },
      "outputs": [],
      "source": [
        "Erro.mean()"
      ]
    },
    {
      "cell_type": "code",
      "execution_count": null,
      "metadata": {
        "id": "z9_GvMW0QApT"
      },
      "outputs": [],
      "source": [
        "Erro.std()"
      ]
    },
    {
      "cell_type": "code",
      "execution_count": null,
      "metadata": {
        "id": "knxj009n9_ra"
      },
      "outputs": [],
      "source": [
        "np.mean((y_test - y_pred)**2)#Erro Quadratico Médio"
      ]
    },
    {
      "cell_type": "code",
      "execution_count": null,
      "metadata": {
        "id": "DHuX3T3xA2jI"
      },
      "outputs": [],
      "source": [
        "np.mean(np.abs(y_test - y_pred) / y_test)*100 #Erro Percentual Absoluto"
      ]
    },
    {
      "cell_type": "markdown",
      "metadata": {
        "id": "i8ivnKd4wvby"
      },
      "source": [
        "### RNA"
      ]
    },
    {
      "cell_type": "code",
      "execution_count": null,
      "metadata": {
        "id": "w34TPYL_wvbz"
      },
      "outputs": [],
      "source": [
        "from sklearn.neural_network import MLPClassifier\n",
        "from sklearn.model_selection import GridSearchCV\n",
        "from sklearn.metrics import mean_absolute_error\n",
        "from sklearn.metrics import mean_squared_error\n",
        "import joblib"
      ]
    },
    {
      "cell_type": "markdown",
      "metadata": {
        "id": "2ddKfhxgwvbz"
      },
      "source": [
        "#### lbfgs"
      ]
    },
    {
      "cell_type": "code",
      "execution_count": null,
      "metadata": {
        "id": "mvYAR_h2M1iJ"
      },
      "outputs": [],
      "source": [
        "#['FlowRate','Speed','Current','Torque', 'PowerFactor', 'OutputVoltage', 'ActualVoltage']\n",
        "#x = df[['Speed', 'mean_Current', 'mean_Torque', 'mean_PowerFactor', 'mean_OutputVoltage', 'mean_ActualVoltage']]\n",
        "x = df[['Speed']]\n",
        "y = df['FlowRate']\n",
        "x_train, x_test, y_train, y_test = train_test_split(x, y, test_size = 0.25, random_state = 0)"
      ]
    },
    {
      "cell_type": "code",
      "source": [
        "x = df.drop(['FlowRate'], axis = 1)\n",
        "y = df['FlowRate']\n",
        "x_train, x_test, y_train, y_test = train_test_split(x, y, test_size = 0.25, random_state = 0)"
      ],
      "metadata": {
        "id": "wiJFMtTp3bo1"
      },
      "execution_count": null,
      "outputs": []
    },
    {
      "cell_type": "code",
      "execution_count": null,
      "metadata": {
        "id": "SNUSZ0V-wvbz"
      },
      "outputs": [],
      "source": [
        "# adam   lbfgs  alpha=1e-5\n",
        "clf = MLPClassifier(hidden_layer_sizes=(10,100,10,100,10), activation=\"identity\", solver='lbfgs', alpha=1e-5 , random_state=1, max_iter = 10000)\n",
        "clf.fit(x_train, y_train)\n",
        "prediction = clf.predict(x_test)\n",
        "Erro = prediction - y_test;"
      ]
    },
    {
      "cell_type": "code",
      "execution_count": null,
      "metadata": {
        "id": "LUdIiCEuaIOg"
      },
      "outputs": [],
      "source": [
        "#Baixa Modelo\n",
        "joblib.dump(clf, 'my_model.pkl', compress=9)\n",
        "files.download('my_model.pkl')"
      ]
    },
    {
      "cell_type": "code",
      "execution_count": null,
      "metadata": {
        "id": "qbqK9AvpaNf6"
      },
      "outputs": [],
      "source": [
        "#importa Modelo\n",
        "#model_clone = joblib.load('my_model.pkl')\n",
        "#prediction = model_clone.predict(x_test)\n",
        "#Erro = prediction - y_test;"
      ]
    },
    {
      "cell_type": "code",
      "execution_count": null,
      "metadata": {
        "id": "SX6Hj-SWwvb0"
      },
      "outputs": [],
      "source": [
        "Erro.mean()"
      ]
    },
    {
      "cell_type": "code",
      "execution_count": null,
      "metadata": {
        "id": "bQ2IlBeZwvb0"
      },
      "outputs": [],
      "source": [
        "Erro.std()"
      ]
    },
    {
      "cell_type": "code",
      "execution_count": null,
      "metadata": {
        "id": "oIY83cagwvb0"
      },
      "outputs": [],
      "source": [
        "np.mean((y_test - prediction)**2) #Erro Quadratico Médio"
      ]
    },
    {
      "cell_type": "code",
      "execution_count": null,
      "metadata": {
        "id": "jrxJRwbwXFe4"
      },
      "outputs": [],
      "source": [
        "np.mean(np.abs(y_test - prediction) / y_test)*100 #Erro Percentual Absoluto"
      ]
    },
    {
      "cell_type": "markdown",
      "metadata": {
        "id": "DJFv2Zopwvb1"
      },
      "source": [
        "#### sgd"
      ]
    },
    {
      "cell_type": "code",
      "execution_count": null,
      "metadata": {
        "id": "-gio-OVXwvb1"
      },
      "outputs": [],
      "source": [
        "clf = MLPClassifier(hidden_layer_sizes=(10,100,10,100,10), activation=\"identity\", solver='sgd', alpha=1e-5, random_state=1, max_iter = 10000)\n",
        "clf.fit(x_train, y_train)\n",
        "prediction = clf.predict(x_test)\n",
        "Erro = prediction - y_test;"
      ]
    },
    {
      "cell_type": "code",
      "execution_count": null,
      "metadata": {
        "id": "YkX8ARCRwvb1"
      },
      "outputs": [],
      "source": [
        "Erro.mean()"
      ]
    },
    {
      "cell_type": "code",
      "execution_count": null,
      "metadata": {
        "id": "EfLPvx8Iwvb2"
      },
      "outputs": [],
      "source": [
        "Erro.std()"
      ]
    },
    {
      "cell_type": "code",
      "execution_count": null,
      "metadata": {
        "id": "Iv7yxbKvXL4T"
      },
      "outputs": [],
      "source": [
        "mean_absolute_error(prediction, y_test)"
      ]
    },
    {
      "cell_type": "code",
      "execution_count": null,
      "metadata": {
        "id": "t5JfXzxZwvb2"
      },
      "outputs": [],
      "source": [
        "mean_squared_error(prediction, y_test)"
      ]
    },
    {
      "cell_type": "markdown",
      "metadata": {
        "id": "_WnzyxdLwvb2"
      },
      "source": [
        "#### adam"
      ]
    },
    {
      "cell_type": "code",
      "execution_count": null,
      "metadata": {
        "id": "pWQjRwQLwvb2"
      },
      "outputs": [],
      "source": [
        "clf = MLPClassifier(hidden_layer_sizes=(10,100,10,100,10), activation=\"identity\", solver='adam', alpha=1e-5, random_state=1, max_iter = 10000)\n",
        "clf.fit(x_train, y_train)\n",
        "prediction = clf.predict(x_test)\n",
        "Erro = prediction - y_test;"
      ]
    },
    {
      "cell_type": "code",
      "execution_count": null,
      "metadata": {
        "id": "5qIjo61awvb3"
      },
      "outputs": [],
      "source": [
        "Erro.mean()"
      ]
    },
    {
      "cell_type": "code",
      "execution_count": null,
      "metadata": {
        "id": "opAWJGliwvb3"
      },
      "outputs": [],
      "source": [
        "Erro.std()"
      ]
    },
    {
      "cell_type": "code",
      "execution_count": null,
      "metadata": {
        "id": "dJWE7nm_XNm8"
      },
      "outputs": [],
      "source": [
        "mean_absolute_error(prediction, y_test)"
      ]
    },
    {
      "cell_type": "code",
      "execution_count": null,
      "metadata": {
        "id": "-NolxOHcwvb3"
      },
      "outputs": [],
      "source": [
        "mean_squared_error(y_test, prediction)"
      ]
    },
    {
      "cell_type": "code",
      "execution_count": null,
      "metadata": {
        "id": "N39N6oEBwvb4"
      },
      "outputs": [],
      "source": [
        "#from sklearn.model_selection import cross_val_score\n",
        "#from sklearn import metrics\n",
        "#scores = cross_val_score(clf, x, y, cv=10, scoring='r2')\n",
        "#print(scores)\n",
        "#print(\"Valor médio de R2: %0.2f   Com desvio padrão de %0.2f\" % (scores.mean(), scores.std()))"
      ]
    }
  ],
  "metadata": {
    "colab": {
      "collapsed_sections": [
        "wsD0u0g3LLkh",
        "eV6NQ-hE2CoZ",
        "7pTnNU-RLDu3",
        "C9EWJbk0QyGC",
        "19rGLhSuAzVI",
        "xYlU3ObdA6i3",
        "xhPNlC4_M78p",
        "S-e6RHc2X7M6",
        "OAcr0D-eYBRQ",
        "n_w55LS0YEEK",
        "i8ivnKd4wvby",
        "2ddKfhxgwvbz",
        "DJFv2Zopwvb1",
        "_WnzyxdLwvb2"
      ],
      "provenance": [],
      "include_colab_link": true
    },
    "kernelspec": {
      "display_name": "Python 3",
      "name": "python3"
    },
    "language_info": {
      "name": "python"
    }
  },
  "nbformat": 4,
  "nbformat_minor": 0
}